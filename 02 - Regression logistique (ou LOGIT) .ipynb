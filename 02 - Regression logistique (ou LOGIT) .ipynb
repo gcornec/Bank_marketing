{
 "cells": [
  {
   "cell_type": "markdown",
   "metadata": {},
   "source": [
    "## 1. Le modèle "
   ]
  },
  {
   "cell_type": "markdown",
   "metadata": {},
   "source": [
    "### 1.1 Principe"
   ]
  },
  {
   "cell_type": "markdown",
   "metadata": {},
   "source": [
    "La régression logistique est un méthode d'apprentissage supervisée très utile pour expliquer / prédire une variable discrète (à l'opposé de continu) lorsque le jeu de données comporte de nombreuses variables catégorielles."
   ]
  },
  {
   "cell_type": "markdown",
   "metadata": {},
   "source": [
    "### 1.2 Notations"
   ]
  },
  {
   "cell_type": "markdown",
   "metadata": {},
   "source": [
    "Soit Y la variable à prédire / expliquée (dans notre cas, il s'agit de la souscription ou non à l'option de deposit à long terme) et X = (X1, X2, ..., Xn) les variables explicatives"
   ]
  },
  {
   "cell_type": "markdown",
   "metadata": {},
   "source": [
    "Dans le cadre de la regression logistique binaire, la variable Y prend deux modalités {0,1}. Les variables $X_{i}$ sont exclusivement binaires ou continues."
   ]
  },
  {
   "cell_type": "markdown",
   "metadata": {},
   "source": [
    "- Soit $\\Omega$ un ensemble de n échantillons (ici n = 45211) comportant $n_{1}$ (respectivement $n_{0}$)) observations correspondant à la modalité 1 (respectivement 0) de Y (dans notre cas, $n_{1}$ = 5289 et $n_{0}$ = 39922).\n",
    "- $P(Y=1)$ est la probabilité a priori pour que Y = 1. Pour simplifier on la notera p(1)\n",
    "- $p(X \\vert 1)$ est la distribution conditionnelle des X sachant la valeur prise par Y. \n",
    "- La probabilité a posteriori d'obtenir la modalité 1 de Y (resp. 0) sachant la valeur prise par X est $p(1 \\vert X)$ (resp. $p(0 \\vert X)$)\n"
   ]
  },
  {
   "cell_type": "markdown",
   "metadata": {},
   "source": [
    "### 1.3 Le modèle LOGIT"
   ]
  },
  {
   "cell_type": "markdown",
   "metadata": {},
   "source": [
    "On désigne par le terme LOGIT de $p(1 \\vert X)$ l'expression suivante: $\\ln {\\frac  {p(1\\vert X)}{1-p(1\\vert X)}}=b_{0}+b_{1}x_{1}+...+b_{n}x_{n}$"
   ]
  },
  {
   "cell_type": "markdown",
   "metadata": {},
   "source": [
    "- il s'agit bien d'une regression car on cherche à montrer une relation de dépendance entre une variable à expliquer tet une série de variables explicatives\n",
    "- il s'agit d'une regression logistique car la loi de probabilité est modélisée par une loi logistique (https://fr.wikipedia.org/wiki/Fonction_logistique_(Verhulst))"
   ]
  },
  {
   "cell_type": "markdown",
   "metadata": {},
   "source": [
    "#### Q.1 Pourquoi la fonction logistique est-elle intéressante ? Notamment par rapport à une fonction affine "
   ]
  },
  {
   "cell_type": "markdown",
   "metadata": {},
   "source": [
    "Réponse: Elle est beaucoup moins sensible aux outliers dans le cas d'une classification binaire"
   ]
  },
  {
   "cell_type": "markdown",
   "metadata": {},
   "source": [
    "Expliquer / prédire une variable binaire consiste alors à estimer au mieux les coefficients $b_{i}$ ci-dessus. Ensuite on peut retrouver la probabilité conditionnelle par la formule suivante: "
   ]
  },
  {
   "cell_type": "markdown",
   "metadata": {},
   "source": [
    "$p(1\\vert X)={\\frac  {e^{{b_{0}+b_{1}x_{1}+...+b_{n}x_{n}}}}{1+e^{{b_{0}+b_{1}x_{1}+...+b_{n}x_{n}}}}}$"
   ]
  },
  {
   "cell_type": "markdown",
   "metadata": {},
   "source": [
    "Il existe plusieurs méthodes de resolutions / d'estimations de ces paramètres (voir principe du maximum de vraisemblance et algo méthode de résolution numérique Newton-Raphson). Nous allons nous concentrer plus sur l'interprétation des résultats dans le cas d'une classification plutot que sur les méthodes de résolution."
   ]
  },
  {
   "cell_type": "markdown",
   "metadata": {},
   "source": [
    "## 2. Implémentation"
   ]
  },
  {
   "cell_type": "markdown",
   "metadata": {},
   "source": [
    "### 2.1 Import des librairies et du jeu de données"
   ]
  },
  {
   "cell_type": "code",
   "execution_count": 2,
   "metadata": {},
   "outputs": [],
   "source": [
    "import pandas as pd\n",
    "import numpy as np\n",
    "from Preprocessing import preprocessing\n",
    "import statsmodels.api as sm\n",
    "from sklearn import linear_model\n",
    "\n",
    "pd.set_option('display.max_columns', 100)\n",
    "pd.set_option('display.max_rows', 100)"
   ]
  },
  {
   "cell_type": "markdown",
   "metadata": {},
   "source": [
    "On réutilise le jeu de données sur le marketing dans la banque"
   ]
  },
  {
   "cell_type": "code",
   "execution_count": 3,
   "metadata": {},
   "outputs": [
    {
     "data": {
      "text/html": [
       "<div>\n",
       "<style scoped>\n",
       "    .dataframe tbody tr th:only-of-type {\n",
       "        vertical-align: middle;\n",
       "    }\n",
       "\n",
       "    .dataframe tbody tr th {\n",
       "        vertical-align: top;\n",
       "    }\n",
       "\n",
       "    .dataframe thead th {\n",
       "        text-align: right;\n",
       "    }\n",
       "</style>\n",
       "<table border=\"1\" class=\"dataframe\">\n",
       "  <thead>\n",
       "    <tr style=\"text-align: right;\">\n",
       "      <th></th>\n",
       "      <th>age</th>\n",
       "      <th>job</th>\n",
       "      <th>marital</th>\n",
       "      <th>education</th>\n",
       "      <th>default</th>\n",
       "      <th>balance</th>\n",
       "      <th>housing</th>\n",
       "      <th>loan</th>\n",
       "      <th>contact</th>\n",
       "      <th>day</th>\n",
       "      <th>month</th>\n",
       "      <th>duration</th>\n",
       "      <th>campaign</th>\n",
       "      <th>pdays</th>\n",
       "      <th>previous</th>\n",
       "      <th>poutcome</th>\n",
       "      <th>y</th>\n",
       "    </tr>\n",
       "  </thead>\n",
       "  <tbody>\n",
       "    <tr>\n",
       "      <th>0</th>\n",
       "      <td>58</td>\n",
       "      <td>management</td>\n",
       "      <td>married</td>\n",
       "      <td>tertiary</td>\n",
       "      <td>no</td>\n",
       "      <td>2143</td>\n",
       "      <td>yes</td>\n",
       "      <td>no</td>\n",
       "      <td>unknown</td>\n",
       "      <td>5</td>\n",
       "      <td>may</td>\n",
       "      <td>261</td>\n",
       "      <td>1</td>\n",
       "      <td>-1</td>\n",
       "      <td>0</td>\n",
       "      <td>unknown</td>\n",
       "      <td>no</td>\n",
       "    </tr>\n",
       "    <tr>\n",
       "      <th>1</th>\n",
       "      <td>44</td>\n",
       "      <td>technician</td>\n",
       "      <td>single</td>\n",
       "      <td>secondary</td>\n",
       "      <td>no</td>\n",
       "      <td>29</td>\n",
       "      <td>yes</td>\n",
       "      <td>no</td>\n",
       "      <td>unknown</td>\n",
       "      <td>5</td>\n",
       "      <td>may</td>\n",
       "      <td>151</td>\n",
       "      <td>1</td>\n",
       "      <td>-1</td>\n",
       "      <td>0</td>\n",
       "      <td>unknown</td>\n",
       "      <td>no</td>\n",
       "    </tr>\n",
       "    <tr>\n",
       "      <th>2</th>\n",
       "      <td>33</td>\n",
       "      <td>entrepreneur</td>\n",
       "      <td>married</td>\n",
       "      <td>secondary</td>\n",
       "      <td>no</td>\n",
       "      <td>2</td>\n",
       "      <td>yes</td>\n",
       "      <td>yes</td>\n",
       "      <td>unknown</td>\n",
       "      <td>5</td>\n",
       "      <td>may</td>\n",
       "      <td>76</td>\n",
       "      <td>1</td>\n",
       "      <td>-1</td>\n",
       "      <td>0</td>\n",
       "      <td>unknown</td>\n",
       "      <td>no</td>\n",
       "    </tr>\n",
       "    <tr>\n",
       "      <th>3</th>\n",
       "      <td>47</td>\n",
       "      <td>blue-collar</td>\n",
       "      <td>married</td>\n",
       "      <td>unknown</td>\n",
       "      <td>no</td>\n",
       "      <td>1506</td>\n",
       "      <td>yes</td>\n",
       "      <td>no</td>\n",
       "      <td>unknown</td>\n",
       "      <td>5</td>\n",
       "      <td>may</td>\n",
       "      <td>92</td>\n",
       "      <td>1</td>\n",
       "      <td>-1</td>\n",
       "      <td>0</td>\n",
       "      <td>unknown</td>\n",
       "      <td>no</td>\n",
       "    </tr>\n",
       "    <tr>\n",
       "      <th>4</th>\n",
       "      <td>33</td>\n",
       "      <td>unknown</td>\n",
       "      <td>single</td>\n",
       "      <td>unknown</td>\n",
       "      <td>no</td>\n",
       "      <td>1</td>\n",
       "      <td>no</td>\n",
       "      <td>no</td>\n",
       "      <td>unknown</td>\n",
       "      <td>5</td>\n",
       "      <td>may</td>\n",
       "      <td>198</td>\n",
       "      <td>1</td>\n",
       "      <td>-1</td>\n",
       "      <td>0</td>\n",
       "      <td>unknown</td>\n",
       "      <td>no</td>\n",
       "    </tr>\n",
       "  </tbody>\n",
       "</table>\n",
       "</div>"
      ],
      "text/plain": [
       "   age           job  marital  education default  balance housing loan  \\\n",
       "0   58    management  married   tertiary      no     2143     yes   no   \n",
       "1   44    technician   single  secondary      no       29     yes   no   \n",
       "2   33  entrepreneur  married  secondary      no        2     yes  yes   \n",
       "3   47   blue-collar  married    unknown      no     1506     yes   no   \n",
       "4   33       unknown   single    unknown      no        1      no   no   \n",
       "\n",
       "   contact  day month  duration  campaign  pdays  previous poutcome   y  \n",
       "0  unknown    5   may       261         1     -1         0  unknown  no  \n",
       "1  unknown    5   may       151         1     -1         0  unknown  no  \n",
       "2  unknown    5   may        76         1     -1         0  unknown  no  \n",
       "3  unknown    5   may        92         1     -1         0  unknown  no  \n",
       "4  unknown    5   may       198         1     -1         0  unknown  no  "
      ]
     },
     "execution_count": 3,
     "metadata": {},
     "output_type": "execute_result"
    }
   ],
   "source": [
    "df = pd.read_csv(\"bank-full.csv\",  sep = \";\")\n",
    "df.head()"
   ]
  },
  {
   "cell_type": "markdown",
   "metadata": {},
   "source": [
    "### 2.2 Preprocessing des données (voir le package en détails)"
   ]
  },
  {
   "cell_type": "markdown",
   "metadata": {},
   "source": [
    "Comme précisé plus haut, on a besoin de variables exclusivement binaires ou continues. "
   ]
  },
  {
   "cell_type": "markdown",
   "metadata": {},
   "source": [
    "#### Q.2 Quel type d'encoding des variables catégorielles doit-on mettre en place pour ce faire ? "
   ]
  },
  {
   "cell_type": "markdown",
   "metadata": {},
   "source": [
    "Réponse: One-hot encoding (chaque modalité de variables multicatégorielles est transformée en variable binaire)"
   ]
  },
  {
   "cell_type": "markdown",
   "metadata": {},
   "source": [
    "#### Consigne 1: Mettre en place cet encoding "
   ]
  },
  {
   "cell_type": "markdown",
   "metadata": {},
   "source": [
    "Vous pouvez faire cet encoding directement via des instructions dans le notebook. Mais le mieux étant de créer un package dans un script python en dehors du notebook pour faire ce processing et appeler ensuite ce package dans le notebook (comme si vous appeliez un package de pandas ou numpy)"
   ]
  },
  {
   "cell_type": "code",
   "execution_count": 4,
   "metadata": {},
   "outputs": [],
   "source": [
    "#La variable à prédire est y_bin (construite à partir de y)\n",
    "#Les variables numériques sont: age, balance, day (à voir si on ne la transforme pas en catégorielle), duration, campaign, pdays, previous\n",
    "#Les variables catégorielles binaires sont: default, housing, loan\n",
    "#Les varaibles multi-catégorielles non ordinales sont: job, marital, education, contact, month, poutcome\n",
    "from Preprocessing import preprocessing\n",
    "\n",
    "var_bin = [\"default\", \"housing\", \"loan\", \"y\"]\n",
    "var_cat = [\"job\",\"marital\", \"education\", \"contact\", \"month\", \"poutcome\"]\n",
    "\n",
    "df_prep = preprocessing(df, var_bin, var_cat)"
   ]
  },
  {
   "cell_type": "code",
   "execution_count": 5,
   "metadata": {},
   "outputs": [
    {
     "data": {
      "text/html": [
       "<div>\n",
       "<style scoped>\n",
       "    .dataframe tbody tr th:only-of-type {\n",
       "        vertical-align: middle;\n",
       "    }\n",
       "\n",
       "    .dataframe tbody tr th {\n",
       "        vertical-align: top;\n",
       "    }\n",
       "\n",
       "    .dataframe thead th {\n",
       "        text-align: right;\n",
       "    }\n",
       "</style>\n",
       "<table border=\"1\" class=\"dataframe\">\n",
       "  <thead>\n",
       "    <tr style=\"text-align: right;\">\n",
       "      <th></th>\n",
       "      <th>age</th>\n",
       "      <th>balance</th>\n",
       "      <th>day</th>\n",
       "      <th>duration</th>\n",
       "      <th>campaign</th>\n",
       "      <th>pdays</th>\n",
       "      <th>previous</th>\n",
       "      <th>default_bin</th>\n",
       "      <th>housing_bin</th>\n",
       "      <th>loan_bin</th>\n",
       "      <th>y_bin</th>\n",
       "      <th>job_blue-collar</th>\n",
       "      <th>job_entrepreneur</th>\n",
       "      <th>job_housemaid</th>\n",
       "      <th>job_management</th>\n",
       "      <th>job_retired</th>\n",
       "      <th>job_self-employed</th>\n",
       "      <th>job_services</th>\n",
       "      <th>job_student</th>\n",
       "      <th>job_technician</th>\n",
       "      <th>job_unemployed</th>\n",
       "      <th>job_unknown</th>\n",
       "      <th>marital_married</th>\n",
       "      <th>marital_single</th>\n",
       "      <th>education_secondary</th>\n",
       "      <th>education_tertiary</th>\n",
       "      <th>education_unknown</th>\n",
       "      <th>contact_telephone</th>\n",
       "      <th>contact_unknown</th>\n",
       "      <th>month_aug</th>\n",
       "      <th>month_dec</th>\n",
       "      <th>month_feb</th>\n",
       "      <th>month_jan</th>\n",
       "      <th>month_jul</th>\n",
       "      <th>month_jun</th>\n",
       "      <th>month_mar</th>\n",
       "      <th>month_may</th>\n",
       "      <th>month_nov</th>\n",
       "      <th>month_oct</th>\n",
       "      <th>month_sep</th>\n",
       "      <th>poutcome_other</th>\n",
       "      <th>poutcome_success</th>\n",
       "      <th>poutcome_unknown</th>\n",
       "    </tr>\n",
       "  </thead>\n",
       "  <tbody>\n",
       "    <tr>\n",
       "      <th>0</th>\n",
       "      <td>58</td>\n",
       "      <td>2143</td>\n",
       "      <td>5</td>\n",
       "      <td>261</td>\n",
       "      <td>1</td>\n",
       "      <td>-1</td>\n",
       "      <td>0</td>\n",
       "      <td>0</td>\n",
       "      <td>1</td>\n",
       "      <td>0</td>\n",
       "      <td>0</td>\n",
       "      <td>0</td>\n",
       "      <td>0</td>\n",
       "      <td>0</td>\n",
       "      <td>1</td>\n",
       "      <td>0</td>\n",
       "      <td>0</td>\n",
       "      <td>0</td>\n",
       "      <td>0</td>\n",
       "      <td>0</td>\n",
       "      <td>0</td>\n",
       "      <td>0</td>\n",
       "      <td>1</td>\n",
       "      <td>0</td>\n",
       "      <td>0</td>\n",
       "      <td>1</td>\n",
       "      <td>0</td>\n",
       "      <td>0</td>\n",
       "      <td>1</td>\n",
       "      <td>0</td>\n",
       "      <td>0</td>\n",
       "      <td>0</td>\n",
       "      <td>0</td>\n",
       "      <td>0</td>\n",
       "      <td>0</td>\n",
       "      <td>0</td>\n",
       "      <td>1</td>\n",
       "      <td>0</td>\n",
       "      <td>0</td>\n",
       "      <td>0</td>\n",
       "      <td>0</td>\n",
       "      <td>0</td>\n",
       "      <td>1</td>\n",
       "    </tr>\n",
       "    <tr>\n",
       "      <th>1</th>\n",
       "      <td>44</td>\n",
       "      <td>29</td>\n",
       "      <td>5</td>\n",
       "      <td>151</td>\n",
       "      <td>1</td>\n",
       "      <td>-1</td>\n",
       "      <td>0</td>\n",
       "      <td>0</td>\n",
       "      <td>1</td>\n",
       "      <td>0</td>\n",
       "      <td>0</td>\n",
       "      <td>0</td>\n",
       "      <td>0</td>\n",
       "      <td>0</td>\n",
       "      <td>0</td>\n",
       "      <td>0</td>\n",
       "      <td>0</td>\n",
       "      <td>0</td>\n",
       "      <td>0</td>\n",
       "      <td>1</td>\n",
       "      <td>0</td>\n",
       "      <td>0</td>\n",
       "      <td>0</td>\n",
       "      <td>1</td>\n",
       "      <td>1</td>\n",
       "      <td>0</td>\n",
       "      <td>0</td>\n",
       "      <td>0</td>\n",
       "      <td>1</td>\n",
       "      <td>0</td>\n",
       "      <td>0</td>\n",
       "      <td>0</td>\n",
       "      <td>0</td>\n",
       "      <td>0</td>\n",
       "      <td>0</td>\n",
       "      <td>0</td>\n",
       "      <td>1</td>\n",
       "      <td>0</td>\n",
       "      <td>0</td>\n",
       "      <td>0</td>\n",
       "      <td>0</td>\n",
       "      <td>0</td>\n",
       "      <td>1</td>\n",
       "    </tr>\n",
       "    <tr>\n",
       "      <th>2</th>\n",
       "      <td>33</td>\n",
       "      <td>2</td>\n",
       "      <td>5</td>\n",
       "      <td>76</td>\n",
       "      <td>1</td>\n",
       "      <td>-1</td>\n",
       "      <td>0</td>\n",
       "      <td>0</td>\n",
       "      <td>1</td>\n",
       "      <td>1</td>\n",
       "      <td>0</td>\n",
       "      <td>0</td>\n",
       "      <td>1</td>\n",
       "      <td>0</td>\n",
       "      <td>0</td>\n",
       "      <td>0</td>\n",
       "      <td>0</td>\n",
       "      <td>0</td>\n",
       "      <td>0</td>\n",
       "      <td>0</td>\n",
       "      <td>0</td>\n",
       "      <td>0</td>\n",
       "      <td>1</td>\n",
       "      <td>0</td>\n",
       "      <td>1</td>\n",
       "      <td>0</td>\n",
       "      <td>0</td>\n",
       "      <td>0</td>\n",
       "      <td>1</td>\n",
       "      <td>0</td>\n",
       "      <td>0</td>\n",
       "      <td>0</td>\n",
       "      <td>0</td>\n",
       "      <td>0</td>\n",
       "      <td>0</td>\n",
       "      <td>0</td>\n",
       "      <td>1</td>\n",
       "      <td>0</td>\n",
       "      <td>0</td>\n",
       "      <td>0</td>\n",
       "      <td>0</td>\n",
       "      <td>0</td>\n",
       "      <td>1</td>\n",
       "    </tr>\n",
       "    <tr>\n",
       "      <th>3</th>\n",
       "      <td>47</td>\n",
       "      <td>1506</td>\n",
       "      <td>5</td>\n",
       "      <td>92</td>\n",
       "      <td>1</td>\n",
       "      <td>-1</td>\n",
       "      <td>0</td>\n",
       "      <td>0</td>\n",
       "      <td>1</td>\n",
       "      <td>0</td>\n",
       "      <td>0</td>\n",
       "      <td>1</td>\n",
       "      <td>0</td>\n",
       "      <td>0</td>\n",
       "      <td>0</td>\n",
       "      <td>0</td>\n",
       "      <td>0</td>\n",
       "      <td>0</td>\n",
       "      <td>0</td>\n",
       "      <td>0</td>\n",
       "      <td>0</td>\n",
       "      <td>0</td>\n",
       "      <td>1</td>\n",
       "      <td>0</td>\n",
       "      <td>0</td>\n",
       "      <td>0</td>\n",
       "      <td>1</td>\n",
       "      <td>0</td>\n",
       "      <td>1</td>\n",
       "      <td>0</td>\n",
       "      <td>0</td>\n",
       "      <td>0</td>\n",
       "      <td>0</td>\n",
       "      <td>0</td>\n",
       "      <td>0</td>\n",
       "      <td>0</td>\n",
       "      <td>1</td>\n",
       "      <td>0</td>\n",
       "      <td>0</td>\n",
       "      <td>0</td>\n",
       "      <td>0</td>\n",
       "      <td>0</td>\n",
       "      <td>1</td>\n",
       "    </tr>\n",
       "    <tr>\n",
       "      <th>4</th>\n",
       "      <td>33</td>\n",
       "      <td>1</td>\n",
       "      <td>5</td>\n",
       "      <td>198</td>\n",
       "      <td>1</td>\n",
       "      <td>-1</td>\n",
       "      <td>0</td>\n",
       "      <td>0</td>\n",
       "      <td>0</td>\n",
       "      <td>0</td>\n",
       "      <td>0</td>\n",
       "      <td>0</td>\n",
       "      <td>0</td>\n",
       "      <td>0</td>\n",
       "      <td>0</td>\n",
       "      <td>0</td>\n",
       "      <td>0</td>\n",
       "      <td>0</td>\n",
       "      <td>0</td>\n",
       "      <td>0</td>\n",
       "      <td>0</td>\n",
       "      <td>1</td>\n",
       "      <td>0</td>\n",
       "      <td>1</td>\n",
       "      <td>0</td>\n",
       "      <td>0</td>\n",
       "      <td>1</td>\n",
       "      <td>0</td>\n",
       "      <td>1</td>\n",
       "      <td>0</td>\n",
       "      <td>0</td>\n",
       "      <td>0</td>\n",
       "      <td>0</td>\n",
       "      <td>0</td>\n",
       "      <td>0</td>\n",
       "      <td>0</td>\n",
       "      <td>1</td>\n",
       "      <td>0</td>\n",
       "      <td>0</td>\n",
       "      <td>0</td>\n",
       "      <td>0</td>\n",
       "      <td>0</td>\n",
       "      <td>1</td>\n",
       "    </tr>\n",
       "  </tbody>\n",
       "</table>\n",
       "</div>"
      ],
      "text/plain": [
       "   age  balance  day  duration  campaign  pdays  previous  default_bin  \\\n",
       "0   58     2143    5       261         1     -1         0            0   \n",
       "1   44       29    5       151         1     -1         0            0   \n",
       "2   33        2    5        76         1     -1         0            0   \n",
       "3   47     1506    5        92         1     -1         0            0   \n",
       "4   33        1    5       198         1     -1         0            0   \n",
       "\n",
       "   housing_bin  loan_bin  y_bin  job_blue-collar  job_entrepreneur  \\\n",
       "0            1         0      0                0                 0   \n",
       "1            1         0      0                0                 0   \n",
       "2            1         1      0                0                 1   \n",
       "3            1         0      0                1                 0   \n",
       "4            0         0      0                0                 0   \n",
       "\n",
       "   job_housemaid  job_management  job_retired  job_self-employed  \\\n",
       "0              0               1            0                  0   \n",
       "1              0               0            0                  0   \n",
       "2              0               0            0                  0   \n",
       "3              0               0            0                  0   \n",
       "4              0               0            0                  0   \n",
       "\n",
       "   job_services  job_student  job_technician  job_unemployed  job_unknown  \\\n",
       "0             0            0               0               0            0   \n",
       "1             0            0               1               0            0   \n",
       "2             0            0               0               0            0   \n",
       "3             0            0               0               0            0   \n",
       "4             0            0               0               0            1   \n",
       "\n",
       "   marital_married  marital_single  education_secondary  education_tertiary  \\\n",
       "0                1               0                    0                   1   \n",
       "1                0               1                    1                   0   \n",
       "2                1               0                    1                   0   \n",
       "3                1               0                    0                   0   \n",
       "4                0               1                    0                   0   \n",
       "\n",
       "   education_unknown  contact_telephone  contact_unknown  month_aug  \\\n",
       "0                  0                  0                1          0   \n",
       "1                  0                  0                1          0   \n",
       "2                  0                  0                1          0   \n",
       "3                  1                  0                1          0   \n",
       "4                  1                  0                1          0   \n",
       "\n",
       "   month_dec  month_feb  month_jan  month_jul  month_jun  month_mar  \\\n",
       "0          0          0          0          0          0          0   \n",
       "1          0          0          0          0          0          0   \n",
       "2          0          0          0          0          0          0   \n",
       "3          0          0          0          0          0          0   \n",
       "4          0          0          0          0          0          0   \n",
       "\n",
       "   month_may  month_nov  month_oct  month_sep  poutcome_other  \\\n",
       "0          1          0          0          0               0   \n",
       "1          1          0          0          0               0   \n",
       "2          1          0          0          0               0   \n",
       "3          1          0          0          0               0   \n",
       "4          1          0          0          0               0   \n",
       "\n",
       "   poutcome_success  poutcome_unknown  \n",
       "0                 0                 1  \n",
       "1                 0                 1  \n",
       "2                 0                 1  \n",
       "3                 0                 1  \n",
       "4                 0                 1  "
      ]
     },
     "execution_count": 5,
     "metadata": {},
     "output_type": "execute_result"
    }
   ],
   "source": [
    "df_prep.head()"
   ]
  },
  {
   "cell_type": "markdown",
   "metadata": {},
   "source": [
    "#### Introduire une étape de normalisation "
   ]
  },
  {
   "cell_type": "markdown",
   "metadata": {},
   "source": [
    "On regarde la distribution des variables explicatives, pour regarder les différences d'échelles"
   ]
  },
  {
   "cell_type": "code",
   "execution_count": 6,
   "metadata": {},
   "outputs": [
    {
     "data": {
      "text/plain": [
       "age                      40.936210\n",
       "balance                1362.272058\n",
       "day                      15.806419\n",
       "duration                258.163080\n",
       "campaign                  2.763841\n",
       "pdays                    40.197828\n",
       "previous                  0.580323\n",
       "default_bin               0.018027\n",
       "housing_bin               0.555838\n",
       "loan_bin                  0.160226\n",
       "y_bin                     0.116985\n",
       "job_blue-collar           0.215257\n",
       "job_entrepreneur          0.032890\n",
       "job_housemaid             0.027427\n",
       "job_management            0.209197\n",
       "job_retired               0.050076\n",
       "job_self-employed         0.034925\n",
       "job_services              0.091880\n",
       "job_student               0.020747\n",
       "job_technician            0.168034\n",
       "job_unemployed            0.028820\n",
       "job_unknown               0.006370\n",
       "marital_married           0.601933\n",
       "marital_single            0.282896\n",
       "education_secondary       0.513194\n",
       "education_tertiary        0.294198\n",
       "education_unknown         0.041074\n",
       "contact_telephone         0.064276\n",
       "contact_unknown           0.287983\n",
       "month_aug                 0.138174\n",
       "month_dec                 0.004733\n",
       "month_feb                 0.058592\n",
       "month_jan                 0.031032\n",
       "month_jul                 0.152507\n",
       "month_jun                 0.118135\n",
       "month_mar                 0.010551\n",
       "month_may                 0.304483\n",
       "month_nov                 0.087810\n",
       "month_oct                 0.016323\n",
       "month_sep                 0.012807\n",
       "poutcome_other            0.040698\n",
       "poutcome_success          0.033421\n",
       "poutcome_unknown          0.817478\n",
       "dtype: float64"
      ]
     },
     "execution_count": 6,
     "metadata": {},
     "output_type": "execute_result"
    }
   ],
   "source": [
    "df_prep.mean()"
   ]
  },
  {
   "cell_type": "markdown",
   "metadata": {},
   "source": [
    "On applique alors une normalisation des données de type min max afin d'avoir toutes les variables entre 0 et 1. En l'occurence, cela n'apportera pas énormément dans le sens ou l'on veut appliquer une regression logistique (moins sensible aux échelles) mais il serait primordial d'en mettre une en place si on appliquait un modèle linéaire."
   ]
  },
  {
   "cell_type": "code",
   "execution_count": 9,
   "metadata": {},
   "outputs": [
    {
     "data": {
      "text/html": [
       "<div>\n",
       "<style scoped>\n",
       "    .dataframe tbody tr th:only-of-type {\n",
       "        vertical-align: middle;\n",
       "    }\n",
       "\n",
       "    .dataframe tbody tr th {\n",
       "        vertical-align: top;\n",
       "    }\n",
       "\n",
       "    .dataframe thead th {\n",
       "        text-align: right;\n",
       "    }\n",
       "</style>\n",
       "<table border=\"1\" class=\"dataframe\">\n",
       "  <thead>\n",
       "    <tr style=\"text-align: right;\">\n",
       "      <th></th>\n",
       "      <th>age</th>\n",
       "      <th>balance</th>\n",
       "      <th>day</th>\n",
       "      <th>duration</th>\n",
       "      <th>campaign</th>\n",
       "      <th>pdays</th>\n",
       "      <th>previous</th>\n",
       "      <th>default_bin</th>\n",
       "      <th>housing_bin</th>\n",
       "      <th>loan_bin</th>\n",
       "      <th>y_bin</th>\n",
       "      <th>job_blue-collar</th>\n",
       "      <th>job_entrepreneur</th>\n",
       "      <th>job_housemaid</th>\n",
       "      <th>job_management</th>\n",
       "      <th>job_retired</th>\n",
       "      <th>job_self-employed</th>\n",
       "      <th>job_services</th>\n",
       "      <th>job_student</th>\n",
       "      <th>job_technician</th>\n",
       "      <th>job_unemployed</th>\n",
       "      <th>job_unknown</th>\n",
       "      <th>marital_married</th>\n",
       "      <th>marital_single</th>\n",
       "      <th>education_secondary</th>\n",
       "      <th>education_tertiary</th>\n",
       "      <th>education_unknown</th>\n",
       "      <th>contact_telephone</th>\n",
       "      <th>contact_unknown</th>\n",
       "      <th>month_aug</th>\n",
       "      <th>month_dec</th>\n",
       "      <th>month_feb</th>\n",
       "      <th>month_jan</th>\n",
       "      <th>month_jul</th>\n",
       "      <th>month_jun</th>\n",
       "      <th>month_mar</th>\n",
       "      <th>month_may</th>\n",
       "      <th>month_nov</th>\n",
       "      <th>month_oct</th>\n",
       "      <th>month_sep</th>\n",
       "      <th>poutcome_other</th>\n",
       "      <th>poutcome_success</th>\n",
       "      <th>poutcome_unknown</th>\n",
       "    </tr>\n",
       "  </thead>\n",
       "  <tbody>\n",
       "    <tr>\n",
       "      <th>0</th>\n",
       "      <td>0.519481</td>\n",
       "      <td>0.092259</td>\n",
       "      <td>0.133333</td>\n",
       "      <td>0.053070</td>\n",
       "      <td>0.0</td>\n",
       "      <td>0.0</td>\n",
       "      <td>0.0</td>\n",
       "      <td>0.0</td>\n",
       "      <td>1.0</td>\n",
       "      <td>0.0</td>\n",
       "      <td>0.0</td>\n",
       "      <td>0.0</td>\n",
       "      <td>0.0</td>\n",
       "      <td>0.0</td>\n",
       "      <td>1.0</td>\n",
       "      <td>0.0</td>\n",
       "      <td>0.0</td>\n",
       "      <td>0.0</td>\n",
       "      <td>0.0</td>\n",
       "      <td>0.0</td>\n",
       "      <td>0.0</td>\n",
       "      <td>0.0</td>\n",
       "      <td>1.0</td>\n",
       "      <td>0.0</td>\n",
       "      <td>0.0</td>\n",
       "      <td>1.0</td>\n",
       "      <td>0.0</td>\n",
       "      <td>0.0</td>\n",
       "      <td>1.0</td>\n",
       "      <td>0.0</td>\n",
       "      <td>0.0</td>\n",
       "      <td>0.0</td>\n",
       "      <td>0.0</td>\n",
       "      <td>0.0</td>\n",
       "      <td>0.0</td>\n",
       "      <td>0.0</td>\n",
       "      <td>1.0</td>\n",
       "      <td>0.0</td>\n",
       "      <td>0.0</td>\n",
       "      <td>0.0</td>\n",
       "      <td>0.0</td>\n",
       "      <td>0.0</td>\n",
       "      <td>1.0</td>\n",
       "    </tr>\n",
       "    <tr>\n",
       "      <th>1</th>\n",
       "      <td>0.337662</td>\n",
       "      <td>0.073067</td>\n",
       "      <td>0.133333</td>\n",
       "      <td>0.030704</td>\n",
       "      <td>0.0</td>\n",
       "      <td>0.0</td>\n",
       "      <td>0.0</td>\n",
       "      <td>0.0</td>\n",
       "      <td>1.0</td>\n",
       "      <td>0.0</td>\n",
       "      <td>0.0</td>\n",
       "      <td>0.0</td>\n",
       "      <td>0.0</td>\n",
       "      <td>0.0</td>\n",
       "      <td>0.0</td>\n",
       "      <td>0.0</td>\n",
       "      <td>0.0</td>\n",
       "      <td>0.0</td>\n",
       "      <td>0.0</td>\n",
       "      <td>1.0</td>\n",
       "      <td>0.0</td>\n",
       "      <td>0.0</td>\n",
       "      <td>0.0</td>\n",
       "      <td>1.0</td>\n",
       "      <td>1.0</td>\n",
       "      <td>0.0</td>\n",
       "      <td>0.0</td>\n",
       "      <td>0.0</td>\n",
       "      <td>1.0</td>\n",
       "      <td>0.0</td>\n",
       "      <td>0.0</td>\n",
       "      <td>0.0</td>\n",
       "      <td>0.0</td>\n",
       "      <td>0.0</td>\n",
       "      <td>0.0</td>\n",
       "      <td>0.0</td>\n",
       "      <td>1.0</td>\n",
       "      <td>0.0</td>\n",
       "      <td>0.0</td>\n",
       "      <td>0.0</td>\n",
       "      <td>0.0</td>\n",
       "      <td>0.0</td>\n",
       "      <td>1.0</td>\n",
       "    </tr>\n",
       "    <tr>\n",
       "      <th>2</th>\n",
       "      <td>0.194805</td>\n",
       "      <td>0.072822</td>\n",
       "      <td>0.133333</td>\n",
       "      <td>0.015453</td>\n",
       "      <td>0.0</td>\n",
       "      <td>0.0</td>\n",
       "      <td>0.0</td>\n",
       "      <td>0.0</td>\n",
       "      <td>1.0</td>\n",
       "      <td>1.0</td>\n",
       "      <td>0.0</td>\n",
       "      <td>0.0</td>\n",
       "      <td>1.0</td>\n",
       "      <td>0.0</td>\n",
       "      <td>0.0</td>\n",
       "      <td>0.0</td>\n",
       "      <td>0.0</td>\n",
       "      <td>0.0</td>\n",
       "      <td>0.0</td>\n",
       "      <td>0.0</td>\n",
       "      <td>0.0</td>\n",
       "      <td>0.0</td>\n",
       "      <td>1.0</td>\n",
       "      <td>0.0</td>\n",
       "      <td>1.0</td>\n",
       "      <td>0.0</td>\n",
       "      <td>0.0</td>\n",
       "      <td>0.0</td>\n",
       "      <td>1.0</td>\n",
       "      <td>0.0</td>\n",
       "      <td>0.0</td>\n",
       "      <td>0.0</td>\n",
       "      <td>0.0</td>\n",
       "      <td>0.0</td>\n",
       "      <td>0.0</td>\n",
       "      <td>0.0</td>\n",
       "      <td>1.0</td>\n",
       "      <td>0.0</td>\n",
       "      <td>0.0</td>\n",
       "      <td>0.0</td>\n",
       "      <td>0.0</td>\n",
       "      <td>0.0</td>\n",
       "      <td>1.0</td>\n",
       "    </tr>\n",
       "    <tr>\n",
       "      <th>3</th>\n",
       "      <td>0.376623</td>\n",
       "      <td>0.086476</td>\n",
       "      <td>0.133333</td>\n",
       "      <td>0.018707</td>\n",
       "      <td>0.0</td>\n",
       "      <td>0.0</td>\n",
       "      <td>0.0</td>\n",
       "      <td>0.0</td>\n",
       "      <td>1.0</td>\n",
       "      <td>0.0</td>\n",
       "      <td>0.0</td>\n",
       "      <td>1.0</td>\n",
       "      <td>0.0</td>\n",
       "      <td>0.0</td>\n",
       "      <td>0.0</td>\n",
       "      <td>0.0</td>\n",
       "      <td>0.0</td>\n",
       "      <td>0.0</td>\n",
       "      <td>0.0</td>\n",
       "      <td>0.0</td>\n",
       "      <td>0.0</td>\n",
       "      <td>0.0</td>\n",
       "      <td>1.0</td>\n",
       "      <td>0.0</td>\n",
       "      <td>0.0</td>\n",
       "      <td>0.0</td>\n",
       "      <td>1.0</td>\n",
       "      <td>0.0</td>\n",
       "      <td>1.0</td>\n",
       "      <td>0.0</td>\n",
       "      <td>0.0</td>\n",
       "      <td>0.0</td>\n",
       "      <td>0.0</td>\n",
       "      <td>0.0</td>\n",
       "      <td>0.0</td>\n",
       "      <td>0.0</td>\n",
       "      <td>1.0</td>\n",
       "      <td>0.0</td>\n",
       "      <td>0.0</td>\n",
       "      <td>0.0</td>\n",
       "      <td>0.0</td>\n",
       "      <td>0.0</td>\n",
       "      <td>1.0</td>\n",
       "    </tr>\n",
       "    <tr>\n",
       "      <th>4</th>\n",
       "      <td>0.194805</td>\n",
       "      <td>0.072812</td>\n",
       "      <td>0.133333</td>\n",
       "      <td>0.040260</td>\n",
       "      <td>0.0</td>\n",
       "      <td>0.0</td>\n",
       "      <td>0.0</td>\n",
       "      <td>0.0</td>\n",
       "      <td>0.0</td>\n",
       "      <td>0.0</td>\n",
       "      <td>0.0</td>\n",
       "      <td>0.0</td>\n",
       "      <td>0.0</td>\n",
       "      <td>0.0</td>\n",
       "      <td>0.0</td>\n",
       "      <td>0.0</td>\n",
       "      <td>0.0</td>\n",
       "      <td>0.0</td>\n",
       "      <td>0.0</td>\n",
       "      <td>0.0</td>\n",
       "      <td>0.0</td>\n",
       "      <td>1.0</td>\n",
       "      <td>0.0</td>\n",
       "      <td>1.0</td>\n",
       "      <td>0.0</td>\n",
       "      <td>0.0</td>\n",
       "      <td>1.0</td>\n",
       "      <td>0.0</td>\n",
       "      <td>1.0</td>\n",
       "      <td>0.0</td>\n",
       "      <td>0.0</td>\n",
       "      <td>0.0</td>\n",
       "      <td>0.0</td>\n",
       "      <td>0.0</td>\n",
       "      <td>0.0</td>\n",
       "      <td>0.0</td>\n",
       "      <td>1.0</td>\n",
       "      <td>0.0</td>\n",
       "      <td>0.0</td>\n",
       "      <td>0.0</td>\n",
       "      <td>0.0</td>\n",
       "      <td>0.0</td>\n",
       "      <td>1.0</td>\n",
       "    </tr>\n",
       "  </tbody>\n",
       "</table>\n",
       "</div>"
      ],
      "text/plain": [
       "        age   balance       day  duration  campaign  pdays  previous  \\\n",
       "0  0.519481  0.092259  0.133333  0.053070       0.0    0.0       0.0   \n",
       "1  0.337662  0.073067  0.133333  0.030704       0.0    0.0       0.0   \n",
       "2  0.194805  0.072822  0.133333  0.015453       0.0    0.0       0.0   \n",
       "3  0.376623  0.086476  0.133333  0.018707       0.0    0.0       0.0   \n",
       "4  0.194805  0.072812  0.133333  0.040260       0.0    0.0       0.0   \n",
       "\n",
       "   default_bin  housing_bin  loan_bin  y_bin  job_blue-collar  \\\n",
       "0          0.0          1.0       0.0    0.0              0.0   \n",
       "1          0.0          1.0       0.0    0.0              0.0   \n",
       "2          0.0          1.0       1.0    0.0              0.0   \n",
       "3          0.0          1.0       0.0    0.0              1.0   \n",
       "4          0.0          0.0       0.0    0.0              0.0   \n",
       "\n",
       "   job_entrepreneur  job_housemaid  job_management  job_retired  \\\n",
       "0               0.0            0.0             1.0          0.0   \n",
       "1               0.0            0.0             0.0          0.0   \n",
       "2               1.0            0.0             0.0          0.0   \n",
       "3               0.0            0.0             0.0          0.0   \n",
       "4               0.0            0.0             0.0          0.0   \n",
       "\n",
       "   job_self-employed  job_services  job_student  job_technician  \\\n",
       "0                0.0           0.0          0.0             0.0   \n",
       "1                0.0           0.0          0.0             1.0   \n",
       "2                0.0           0.0          0.0             0.0   \n",
       "3                0.0           0.0          0.0             0.0   \n",
       "4                0.0           0.0          0.0             0.0   \n",
       "\n",
       "   job_unemployed  job_unknown  marital_married  marital_single  \\\n",
       "0             0.0          0.0              1.0             0.0   \n",
       "1             0.0          0.0              0.0             1.0   \n",
       "2             0.0          0.0              1.0             0.0   \n",
       "3             0.0          0.0              1.0             0.0   \n",
       "4             0.0          1.0              0.0             1.0   \n",
       "\n",
       "   education_secondary  education_tertiary  education_unknown  \\\n",
       "0                  0.0                 1.0                0.0   \n",
       "1                  1.0                 0.0                0.0   \n",
       "2                  1.0                 0.0                0.0   \n",
       "3                  0.0                 0.0                1.0   \n",
       "4                  0.0                 0.0                1.0   \n",
       "\n",
       "   contact_telephone  contact_unknown  month_aug  month_dec  month_feb  \\\n",
       "0                0.0              1.0        0.0        0.0        0.0   \n",
       "1                0.0              1.0        0.0        0.0        0.0   \n",
       "2                0.0              1.0        0.0        0.0        0.0   \n",
       "3                0.0              1.0        0.0        0.0        0.0   \n",
       "4                0.0              1.0        0.0        0.0        0.0   \n",
       "\n",
       "   month_jan  month_jul  month_jun  month_mar  month_may  month_nov  \\\n",
       "0        0.0        0.0        0.0        0.0        1.0        0.0   \n",
       "1        0.0        0.0        0.0        0.0        1.0        0.0   \n",
       "2        0.0        0.0        0.0        0.0        1.0        0.0   \n",
       "3        0.0        0.0        0.0        0.0        1.0        0.0   \n",
       "4        0.0        0.0        0.0        0.0        1.0        0.0   \n",
       "\n",
       "   month_oct  month_sep  poutcome_other  poutcome_success  poutcome_unknown  \n",
       "0        0.0        0.0             0.0               0.0               1.0  \n",
       "1        0.0        0.0             0.0               0.0               1.0  \n",
       "2        0.0        0.0             0.0               0.0               1.0  \n",
       "3        0.0        0.0             0.0               0.0               1.0  \n",
       "4        0.0        0.0             0.0               0.0               1.0  "
      ]
     },
     "execution_count": 9,
     "metadata": {},
     "output_type": "execute_result"
    }
   ],
   "source": [
    "df_norm = (df_prep - df_prep.min()) / (df_prep.max() - df_prep.min())\n",
    "df_norm.head()"
   ]
  },
  {
   "cell_type": "markdown",
   "metadata": {},
   "source": [
    "#### Consigne 2: Séparer l'échantillon de données en base d'apprentissage et base de test (70% / 30%)"
   ]
  },
  {
   "cell_type": "code",
   "execution_count": 10,
   "metadata": {},
   "outputs": [
    {
     "name": "stdout",
     "output_type": "stream",
     "text": [
      "(30291, 42) (14920, 42) (30291,) (14920,)\n"
     ]
    }
   ],
   "source": [
    "from sklearn.model_selection import train_test_split\n",
    "\n",
    "X = df_norm.drop([\"y_bin\"], axis = 1)\n",
    "y = df_norm[\"y_bin\"]\n",
    "X_train, X_test, y_train, y_test = train_test_split(X, y, test_size=0.33, random_state=42)\n",
    "print(np.shape(X_train), np.shape(X_test), np.shape(y_train), np.shape(y_test))"
   ]
  },
  {
   "cell_type": "code",
   "execution_count": 11,
   "metadata": {},
   "outputs": [
    {
     "name": "stdout",
     "output_type": "stream",
     "text": [
      "0.0    0.883002\n",
      "1.0    0.116998\n",
      "Name: y_bin, dtype: float64\n",
      "0.0    0.883043\n",
      "1.0    0.116957\n",
      "Name: y_bin, dtype: float64\n"
     ]
    }
   ],
   "source": [
    "#On observe le même taux de souscritpion dans le jeu de données d'apprentissage et dans celui de test\n",
    "print(y_train.value_counts().apply(lambda x: x/len(y_train)))\n",
    "print(y_test.value_counts().apply(lambda x: x/len(y_test)))"
   ]
  },
  {
   "cell_type": "markdown",
   "metadata": {},
   "source": [
    "Il faudrait sans doute appliquer une normalisation des données sinon on aura un biais dans nos données"
   ]
  },
  {
   "cell_type": "markdown",
   "metadata": {},
   "source": [
    "### 2.3 Mise en place d'un modèle via le package scikit learn LogisticRegression"
   ]
  },
  {
   "cell_type": "markdown",
   "metadata": {},
   "source": [
    "#### Consigne 3: Utiliser la fonction de scikit learn permettant de mettre en place une régression logistique pour entrainer un modèle "
   ]
  },
  {
   "cell_type": "markdown",
   "metadata": {},
   "source": [
    "On commence par regarder les différents hyperparamètres à optimiser pour mettre notre regression logistique en place"
   ]
  },
  {
   "cell_type": "code",
   "execution_count": 12,
   "metadata": {},
   "outputs": [],
   "source": [
    "linear_model.LogisticRegression?"
   ]
  },
  {
   "cell_type": "markdown",
   "metadata": {},
   "source": [
    "Notre dataset ne contient pas beaucoup d'observations (seulement quelques dizaines de milliers), on peut donc se dire qu'un solver liblinear serait approprié pour résoudre un tel problème."
   ]
  },
  {
   "cell_type": "code",
   "execution_count": 13,
   "metadata": {},
   "outputs": [
    {
     "data": {
      "text/plain": [
       "LogisticRegression(C=1.0, class_weight=None, dual=False, fit_intercept=True,\n",
       "                   intercept_scaling=1, l1_ratio=None, max_iter=100,\n",
       "                   multi_class='auto', n_jobs=None, penalty='l1',\n",
       "                   random_state=None, solver='liblinear', tol=0.001, verbose=0,\n",
       "                   warm_start=False)"
      ]
     },
     "execution_count": 13,
     "metadata": {},
     "output_type": "execute_result"
    }
   ],
   "source": [
    "model = linear_model.LogisticRegression(penalty='l1', tol=0.001, solver='liblinear')\n",
    "model.fit(X_train, y_train)"
   ]
  },
  {
   "cell_type": "code",
   "execution_count": 19,
   "metadata": {},
   "outputs": [
    {
     "name": "stdout",
     "output_type": "stream",
     "text": [
      "[-2.49403675] [[ 0.          0.36593491  0.23434544 20.53731369 -5.07080743  0.\n",
      "   0.          0.         -0.71606197 -0.41351147 -0.25587462 -0.24788147\n",
      "  -0.34563972 -0.12849577  0.27123447 -0.24003717 -0.19474907  0.31633528\n",
      "  -0.1674127  -0.11768334 -0.38504138 -0.21162156  0.08381301  0.23994518\n",
      "   0.4128393   0.19887124 -0.07879038 -1.60937167 -0.8142392   0.4688778\n",
      "  -0.33283586 -1.36485617 -0.97315727  0.23994612  1.36439289 -0.53030442\n",
      "  -0.92941079  0.8663269   0.75638802  0.21403523  2.33676017 -0.11356772]]\n"
     ]
    }
   ],
   "source": [
    "print(model.intercept_, model.coef_)"
   ]
  },
  {
   "cell_type": "code",
   "execution_count": 20,
   "metadata": {},
   "outputs": [
    {
     "data": {
      "text/plain": [
       "Index(['age', 'balance', 'day', 'duration', 'campaign', 'pdays', 'previous',\n",
       "       'default_bin', 'housing_bin', 'loan_bin', 'job_blue-collar',\n",
       "       'job_entrepreneur', 'job_housemaid', 'job_management', 'job_retired',\n",
       "       'job_self-employed', 'job_services', 'job_student', 'job_technician',\n",
       "       'job_unemployed', 'job_unknown', 'marital_married', 'marital_single',\n",
       "       'education_secondary', 'education_tertiary', 'education_unknown',\n",
       "       'contact_telephone', 'contact_unknown', 'month_aug', 'month_dec',\n",
       "       'month_feb', 'month_jan', 'month_jul', 'month_jun', 'month_mar',\n",
       "       'month_may', 'month_nov', 'month_oct', 'month_sep', 'poutcome_other',\n",
       "       'poutcome_success', 'poutcome_unknown'],\n",
       "      dtype='object')"
      ]
     },
     "execution_count": 20,
     "metadata": {},
     "output_type": "execute_result"
    }
   ],
   "source": [
    "X_train.columns"
   ]
  },
  {
   "cell_type": "code",
   "execution_count": 21,
   "metadata": {},
   "outputs": [
    {
     "name": "stdout",
     "output_type": "stream",
     "text": [
      "age 1.0\n",
      "balance 1.4418613858028417\n",
      "day 1.2640810843866708\n",
      "duration 830313327.1891961\n",
      "campaign 0.006277349549051123\n",
      "pdays 1.0\n",
      "previous 1.0\n",
      "default_bin 1.0\n",
      "housing_bin 0.48867288020140315\n",
      "loan_bin 0.6613239499914798\n",
      "job_blue-collar 0.7742390380561331\n",
      "job_entrepreneur 0.7804524412944248\n",
      "job_housemaid 0.7077674366394006\n",
      "job_management 0.8794172800948866\n",
      "job_retired 1.3115825629223226\n",
      "job_self-employed 0.7865986230279876\n",
      "job_services 0.8230411568359093\n",
      "job_student 1.3720902095956375\n",
      "job_technician 0.8458504570196447\n",
      "job_unemployed 0.8889775140725154\n",
      "job_unknown 0.6804224796134007\n",
      "marital_married 0.8092708965173848\n",
      "marital_single 1.0874255383512692\n",
      "education_secondary 1.2711794626926347\n",
      "education_tertiary 1.511102173004787\n",
      "education_unknown 1.2200248641016247\n",
      "contact_telephone 0.9242336438564561\n",
      "contact_unknown 0.20001324806349696\n",
      "month_aug 0.44297621357581524\n",
      "month_dec 1.598199692263699\n",
      "month_feb 0.7168878547731427\n",
      "month_jan 0.25541741051350153\n",
      "month_jul 0.37788805944155796\n",
      "month_jun 1.271180655581459\n",
      "month_mar 3.9133465138311143\n",
      "month_may 0.588425815583526\n",
      "month_nov 0.3947862528366788\n",
      "month_oct 2.3781595643809066\n",
      "month_sep 2.1305667396016306\n",
      "poutcome_other 1.2386662869842482\n",
      "poutcome_success 10.347657504708398\n",
      "poutcome_unknown 0.8926437473203872\n"
     ]
    }
   ],
   "source": [
    "for i in range(len(X_train.columns)):\n",
    "    print(X_train.columns[i], np.exp(model.coef_[0][i]))"
   ]
  },
  {
   "cell_type": "markdown",
   "metadata": {},
   "source": [
    "#### Consigne 4: Faire des prédictions sur l'échantillon de test"
   ]
  },
  {
   "cell_type": "code",
   "execution_count": 22,
   "metadata": {},
   "outputs": [],
   "source": [
    "y_pred_test = model.predict(X_test)"
   ]
  },
  {
   "cell_type": "markdown",
   "metadata": {},
   "source": [
    "En faisant des prédictions sur l'échantillon de test, on se rend compte que le modèle prédit deux fois moins de personnes susceptibles de prédire qu'il y en a dans l'échantillon. Le modèle a tendance a être \"frileux\" (prédire moins de 1 que de 0) pour avoir une meilleur accuracy. Il est possible de changer ça en jouant sur l'hyperparamètre class_weight"
   ]
  },
  {
   "cell_type": "code",
   "execution_count": 23,
   "metadata": {},
   "outputs": [
    {
     "data": {
      "text/plain": [
       "0.0    0.936729\n",
       "1.0    0.063271\n",
       "Name: pred, dtype: float64"
      ]
     },
     "execution_count": 23,
     "metadata": {},
     "output_type": "execute_result"
    }
   ],
   "source": [
    "pd.DataFrame(y_pred_test, columns = [\"pred\"]).pred.value_counts().apply(lambda x: x/len(y_pred_test))"
   ]
  },
  {
   "cell_type": "code",
   "execution_count": 25,
   "metadata": {},
   "outputs": [
    {
     "data": {
      "text/plain": [
       "0.0    0.883043\n",
       "1.0    0.116957\n",
       "Name: y_bin, dtype: float64"
      ]
     },
     "execution_count": 25,
     "metadata": {},
     "output_type": "execute_result"
    }
   ],
   "source": [
    "y_test.value_counts().apply(lambda x: x/len(y_test))"
   ]
  },
  {
   "cell_type": "markdown",
   "metadata": {},
   "source": [
    "### 2.4 Analyse des différentes métriques"
   ]
  },
  {
   "cell_type": "markdown",
   "metadata": {},
   "source": [
    "#### Consigne 5: Créez une matrice de confusion pour analyser les résultats"
   ]
  },
  {
   "cell_type": "code",
   "execution_count": 26,
   "metadata": {},
   "outputs": [
    {
     "data": {
      "text/plain": [
       "array([[12831,   344],\n",
       "       [ 1145,   600]])"
      ]
     },
     "execution_count": 26,
     "metadata": {},
     "output_type": "execute_result"
    }
   ],
   "source": [
    "from sklearn.metrics import confusion_matrix\n",
    "cm_test = confusion_matrix(y_test, y_pred_test)\n",
    "cm_test"
   ]
  },
  {
   "cell_type": "markdown",
   "metadata": {},
   "source": [
    "#### Q.3: Combien a-t'on de TP (True Positif), TN (True Negatif), FP (False Positive) et FN (False Negative) ? "
   ]
  },
  {
   "cell_type": "code",
   "execution_count": 27,
   "metadata": {},
   "outputs": [
    {
     "name": "stdout",
     "output_type": "stream",
     "text": [
      "True Negative 12831\n",
      "False Positive 344\n",
      "False Negative 1145\n",
      "True Positive 600\n"
     ]
    }
   ],
   "source": [
    "tn, fp, fn, tp = cm_test.ravel()\n",
    "print(\"True Negative\", tn)\n",
    "print(\"False Positive\", fp)\n",
    "print(\"False Negative\", fn)\n",
    "print(\"True Positive\", tp)"
   ]
  },
  {
   "cell_type": "markdown",
   "metadata": {},
   "source": [
    "#### Q.4 Quelle est l'accuracy du modèle ? Sa précision ? Son recall ? Son F-1 score ?"
   ]
  },
  {
   "cell_type": "code",
   "execution_count": 28,
   "metadata": {},
   "outputs": [
    {
     "name": "stdout",
     "output_type": "stream",
     "text": [
      "accuracy 0.9002\n",
      "accuracy 0.900201072386059\n"
     ]
    }
   ],
   "source": [
    "from sklearn.metrics import accuracy_score, precision_score, recall_score, f1_score\n",
    "print(\"accuracy\", round(accuracy_score(y_test, y_pred_test),4))\n",
    "print(\"accuracy\", (tp + tn)/ len(y_test))\n",
    "#Sans normalisation: 0.90"
   ]
  },
  {
   "cell_type": "code",
   "execution_count": 29,
   "metadata": {},
   "outputs": [
    {
     "name": "stdout",
     "output_type": "stream",
     "text": [
      "precision 0.6356\n",
      "precision 0.635593220338983\n"
     ]
    }
   ],
   "source": [
    "#Parmi les personnes indiquées par le modèle comme ayant souscrit à l'offre, 63% ont en effet bien souscrit à l'offre.\n",
    "print(\"precision\", round(precision_score(y_test, y_pred_test),4))\n",
    "print(\"precision\", tp/(tp+fp))\n",
    "#Sans normalisation: 0.64"
   ]
  },
  {
   "cell_type": "code",
   "execution_count": 30,
   "metadata": {},
   "outputs": [
    {
     "name": "stdout",
     "output_type": "stream",
     "text": [
      "recall 0.3438\n",
      "recall 0.3438395415472779\n"
     ]
    }
   ],
   "source": [
    "#Le recall correspond à la capacité du modèle d'identifier l'ensemble des personnes ayant souscrit (il a réussi à en repérer 35%)\n",
    "#Parmi l'ensemble des gens ayant souscrit à l'offre, seulement\n",
    "print(\"recall\", round(recall_score(y_test, y_pred_test),4))\n",
    "print(\"recall\", tp/(tp+fn))\n",
    "#Sans normalisation: 0.35"
   ]
  },
  {
   "cell_type": "code",
   "execution_count": 31,
   "metadata": {},
   "outputs": [
    {
     "name": "stdout",
     "output_type": "stream",
     "text": [
      "f1-score 0.4462625511342506\n"
     ]
    }
   ],
   "source": [
    "print(\"f1-score\", f1_score(y_test, y_pred_test))"
   ]
  },
  {
   "cell_type": "markdown",
   "metadata": {},
   "source": [
    "On remarque qu'il n'y a pas de différence entre le modèle entrainé sur les données brutes et sur les données normalisées."
   ]
  },
  {
   "cell_type": "markdown",
   "metadata": {},
   "source": [
    "#### Consigne 6: Construire une courbe ROC et une courbe Precision - Recall à partir des résultats"
   ]
  },
  {
   "cell_type": "markdown",
   "metadata": {},
   "source": [
    "Pour réaliser une courbe ROC, il est nécessaire de calculer deux taux: \n",
    "- Le taux de faux positifs \n",
    "- Le taux de vrais positifs "
   ]
  },
  {
   "cell_type": "markdown",
   "metadata": {},
   "source": [
    "#### Classification pure"
   ]
  },
  {
   "cell_type": "markdown",
   "metadata": {},
   "source": [
    "La courbe ROC n'est pas pertinente à partir de prédictions directes (0 ou 1) mais seulement à partir des proabilités de chaque classe (0 ou 1) afin d'avoir des résultats différents (TPR et FRP) en fonction des différents seuils que l'on pourrait tester."
   ]
  },
  {
   "cell_type": "code",
   "execution_count": 32,
   "metadata": {},
   "outputs": [],
   "source": [
    "from sklearn import metrics \n",
    "import matplotlib.pyplot as plt\n",
    "\n",
    "fpr, tpr, thresholds = metrics.roc_curve(y_test, y_pred_test)\n",
    "roc_auc = metrics.auc(fpr, tpr)"
   ]
  },
  {
   "cell_type": "code",
   "execution_count": 33,
   "metadata": {},
   "outputs": [
    {
     "data": {
      "image/png": "[encoded data removed]",
      "text/plain": [
       "<Figure size 432x288 with 1 Axes>"
      ]
     },
     "metadata": {
      "needs_background": "light"
     },
     "output_type": "display_data"
    }
   ],
   "source": [
    "plt.figure()\n",
    "plt.plot(fpr, tpr, color='darkorange', label='ROC curve (area = %0.2f)' % roc_auc)\n",
    "plt.plot([0, 1], [0, 1], color='navy', linestyle='--')\n",
    "plt.xlim([0.0, 1.0])\n",
    "plt.ylim([0.0, 1.05])\n",
    "plt.xlabel('False Positive Rate')\n",
    "plt.ylabel('True Positive Rate')\n",
    "plt.title('Receiver operating characteristic example')\n",
    "plt.legend(loc=\"lower right\")\n",
    "plt.show()"
   ]
  },
  {
   "cell_type": "markdown",
   "metadata": {},
   "source": [
    "#### Regression grâce à predict proba"
   ]
  },
  {
   "cell_type": "code",
   "execution_count": 34,
   "metadata": {},
   "outputs": [
    {
     "data": {
      "text/plain": [
       "array([0.00863405, 0.02982977, 0.19939705, ..., 0.05090222, 0.28681481,\n",
       "       0.27594053])"
      ]
     },
     "execution_count": 34,
     "metadata": {},
     "output_type": "execute_result"
    }
   ],
   "source": [
    "#Cette série représente les prédictions estimant la probabilité que les clients de la base de test souscrient au dépôt de long terme\n",
    "y_pred_test_proba = model.predict_proba(X_test)\n",
    "y_pred_test_proba[:,1]"
   ]
  },
  {
   "cell_type": "code",
   "execution_count": 35,
   "metadata": {},
   "outputs": [],
   "source": [
    "fpr, tpr, thresholds = metrics.roc_curve(y_test, y_pred_test_proba[:,1])\n",
    "roc_auc = metrics.auc(fpr, tpr)"
   ]
  },
  {
   "cell_type": "code",
   "execution_count": 36,
   "metadata": {},
   "outputs": [
    {
     "data": {
      "image/png": "[encoded data removed]",
      "text/plain": [
       "<Figure size 432x288 with 1 Axes>"
      ]
     },
     "metadata": {
      "needs_background": "light"
     },
     "output_type": "display_data"
    }
   ],
   "source": [
    "plt.figure()\n",
    "plt.plot(fpr, tpr, color='darkorange', label='ROC curve (area = %0.2f)' % roc_auc)\n",
    "plt.plot([0, 1], [0, 1], color='navy', linestyle='--')\n",
    "plt.xlim([0.0, 1.0])\n",
    "plt.ylim([0.0, 1.05])\n",
    "plt.xlabel('False Positive Rate')\n",
    "plt.ylabel('True Positive Rate')\n",
    "plt.title('Receiver operating characteristic example')\n",
    "plt.legend(loc=\"lower right\")\n",
    "plt.show()"
   ]
  },
  {
   "cell_type": "markdown",
   "metadata": {},
   "source": [
    "#### Consigne 7: Faire des prédictions sur l'échantillon d'apprentissage et calculer toutes les métriques ci-dessus"
   ]
  },
  {
   "cell_type": "code",
   "execution_count": 37,
   "metadata": {},
   "outputs": [],
   "source": [
    "y_pred_train = model.predict(X_train)"
   ]
  },
  {
   "cell_type": "code",
   "execution_count": 38,
   "metadata": {},
   "outputs": [
    {
     "data": {
      "text/plain": [
       "0.0    0.937671\n",
       "1.0    0.062329\n",
       "Name: pred, dtype: float64"
      ]
     },
     "execution_count": 38,
     "metadata": {},
     "output_type": "execute_result"
    }
   ],
   "source": [
    "pd.DataFrame(y_pred_train, columns = [\"pred\"]).pred.value_counts().apply(lambda x: x/len(y_pred_train))"
   ]
  },
  {
   "cell_type": "code",
   "execution_count": 39,
   "metadata": {},
   "outputs": [
    {
     "data": {
      "text/plain": [
       "array([[26099,   648],\n",
       "       [ 2304,  1240]])"
      ]
     },
     "execution_count": 39,
     "metadata": {},
     "output_type": "execute_result"
    }
   ],
   "source": [
    "from sklearn.metrics import confusion_matrix\n",
    "cm_test = confusion_matrix(y_train, y_pred_train)\n",
    "cm_test"
   ]
  },
  {
   "cell_type": "code",
   "execution_count": 40,
   "metadata": {},
   "outputs": [
    {
     "name": "stdout",
     "output_type": "stream",
     "text": [
      "accuracy 0.9025\n",
      "precision 0.6568\n",
      "recall 0.3499\n"
     ]
    }
   ],
   "source": [
    "print(\"accuracy\", round(accuracy_score(y_train, y_pred_train),4))\n",
    "print(\"precision\", round(precision_score(y_train, y_pred_train),4))\n",
    "print(\"recall\", round(recall_score(y_train, y_pred_train),4))"
   ]
  },
  {
   "cell_type": "code",
   "execution_count": 41,
   "metadata": {},
   "outputs": [
    {
     "data": {
      "text/plain": [
       "array([0.06270456, 0.23550101, 0.16750606, ..., 0.07797999, 0.0196442 ,\n",
       "       0.00647246])"
      ]
     },
     "execution_count": 41,
     "metadata": {},
     "output_type": "execute_result"
    }
   ],
   "source": [
    "y_pred_train_proba = model.predict_proba(X_train)\n",
    "y_pred_train_proba[:,1]"
   ]
  },
  {
   "cell_type": "code",
   "execution_count": 42,
   "metadata": {},
   "outputs": [],
   "source": [
    "fpr, tpr, thresholds = metrics.roc_curve(y_train, y_pred_train_proba[:,1])\n",
    "roc_auc = metrics.auc(fpr, tpr)"
   ]
  },
  {
   "cell_type": "code",
   "execution_count": 43,
   "metadata": {},
   "outputs": [
    {
     "data": {
      "image/png": "[encoded data removed]",
      "text/plain": [
       "<Figure size 432x288 with 1 Axes>"
      ]
     },
     "metadata": {
      "needs_background": "light"
     },
     "output_type": "display_data"
    }
   ],
   "source": [
    "plt.figure()\n",
    "plt.plot(fpr, tpr, color='darkorange', label='ROC curve (area = %0.2f)' % roc_auc)\n",
    "plt.plot([0, 1], [0, 1], color='navy', linestyle='--')\n",
    "plt.xlim([0.0, 1.0])\n",
    "plt.ylim([0.0, 1.05])\n",
    "plt.xlabel('False Positive Rate')\n",
    "plt.ylabel('True Positive Rate')\n",
    "plt.title('Receiver operating characteristic example')\n",
    "plt.legend(loc=\"lower right\")\n",
    "plt.show()"
   ]
  },
  {
   "cell_type": "markdown",
   "metadata": {},
   "source": [
    "### 2.5 Etude de l'overfitting (surapprentissage) du modèle"
   ]
  },
  {
   "cell_type": "markdown",
   "metadata": {},
   "source": [
    "#### Consigne 8: Comparer avec les résultats des prédictions sur l'échantillon d'apprentissage et l'échantillon de test "
   ]
  },
  {
   "cell_type": "markdown",
   "metadata": {},
   "source": [
    "On observe à peu près les mêmes résultats entre test et train"
   ]
  },
  {
   "cell_type": "markdown",
   "metadata": {},
   "source": [
    "Dorénavant, on va créer trois bases de données: une base d'apprentissage, une de test et une dernière de validation pour laquelle on est sur que le modèle n'a jamais vu les données"
   ]
  },
  {
   "cell_type": "markdown",
   "metadata": {},
   "source": [
    "#### Méthode 1: séparation des observations à la main"
   ]
  },
  {
   "cell_type": "markdown",
   "metadata": {},
   "source": [
    "Le découpage suivant donne une répartition inégale des 0 et 1, il permet de voir comment le modèle s'adapte à des taux de souscription varaible en fonction des échantillons."
   ]
  },
  {
   "cell_type": "code",
   "execution_count": 44,
   "metadata": {},
   "outputs": [
    {
     "name": "stdout",
     "output_type": "stream",
     "text": [
      "(21203, 42) (10444, 42) (13564, 42) (21203,) (10444,) (13564,)\n"
     ]
    }
   ],
   "source": [
    "X = df_prep[:int(0.7*len(df_prep))].drop([\"y_bin\"], axis = 1)\n",
    "y = df_prep[:int(0.7*len(df_prep))][\"y_bin\"]\n",
    "X_train, X_test, y_train, y_test = train_test_split(X, y, test_size=0.33, random_state=42)\n",
    "\n",
    "X_valid = df_prep[int(0.7*len(df_prep)):].drop([\"y_bin\"], axis = 1)\n",
    "y_valid = df_prep[int(0.7*len(df_prep)):][\"y_bin\"]\n",
    "\n",
    "print(np.shape(X_train), np.shape(X_test), np.shape(X_valid), np.shape(y_train), np.shape(y_test), np.shape(y_valid))"
   ]
  },
  {
   "cell_type": "markdown",
   "metadata": {},
   "source": [
    "#### Méthode 2: séparation des observations de manière aléatoire"
   ]
  },
  {
   "cell_type": "code",
   "execution_count": 45,
   "metadata": {},
   "outputs": [],
   "source": [
    "#On peut utiliser df_norm ou df_prep\n",
    "#X = df_norm.drop([\"y_bin\"], axis = 1)\n",
    "#y = df_norm[\"y_bin\"]\n",
    "#\n",
    "#X, X_valid, y, y_valid = train_test_split(X, y, test_size=0.30, random_state=42)\n",
    "#X_train, X_test, y_train, y_test = train_test_split(X, y, test_size=0.30, random_state=42)\n",
    "#\n",
    "#print(np.shape(X_train), np.shape(X_test), np.shape(X_valid), np.shape(y_train), np.shape(y_test), np.shape(y_valid))"
   ]
  },
  {
   "cell_type": "code",
   "execution_count": 46,
   "metadata": {},
   "outputs": [
    {
     "data": {
      "text/plain": [
       "LogisticRegression(C=1.0, class_weight='balanced', dual=False,\n",
       "                   fit_intercept=True, intercept_scaling=1, l1_ratio=None,\n",
       "                   max_iter=100, multi_class='auto', n_jobs=None, penalty='l2',\n",
       "                   random_state=None, solver='liblinear', tol=0.0001, verbose=0,\n",
       "                   warm_start=False)"
      ]
     },
     "execution_count": 46,
     "metadata": {},
     "output_type": "execute_result"
    }
   ],
   "source": [
    "model = linear_model.LogisticRegression(solver='liblinear', class_weight = \"balanced\")\n",
    "model.fit(X_train, y_train)"
   ]
  },
  {
   "cell_type": "code",
   "execution_count": 47,
   "metadata": {},
   "outputs": [],
   "source": [
    "dic_y = {\"train\": y_train, \"test\": y_test, \"valid\": y_valid}\n",
    "dic_X = {\"train\": X_train, \"test\": X_test, \"valid\": X_valid}\n",
    "dic_pred = {}\n",
    "\n",
    "for nom in [\"train\", \"test\", \"valid\"]:\n",
    "    dic_pred[nom] = model.predict(dic_X[nom])"
   ]
  },
  {
   "cell_type": "code",
   "execution_count": 48,
   "metadata": {},
   "outputs": [
    {
     "name": "stdout",
     "output_type": "stream",
     "text": [
      "truetrain\n",
      "0    0.941801\n",
      "1    0.058199\n",
      "Name: y_bin, dtype: float64\n",
      "predtrain\n",
      "0    0.845588\n",
      "1    0.154412\n",
      "Name: pred, dtype: float64\n",
      "truetest\n",
      "0    0.941976\n",
      "1    0.058024\n",
      "Name: y_bin, dtype: float64\n",
      "predtest\n",
      "0    0.844217\n",
      "1    0.155783\n",
      "Name: pred, dtype: float64\n",
      "truevalid\n",
      "0    0.745724\n",
      "1    0.254276\n",
      "Name: y_bin, dtype: float64\n",
      "predvalid\n",
      "0    0.761722\n",
      "1    0.238278\n",
      "Name: pred, dtype: float64\n"
     ]
    }
   ],
   "source": [
    "#On regarde la répartition des prédictions\n",
    "for nom in [\"train\", \"test\", \"valid\"]:\n",
    "    print(\"true\" + nom)\n",
    "    print(dic_y[nom].value_counts().apply(lambda x: x/len(dic_y[nom])))\n",
    "    print(\"pred\" + nom)\n",
    "    print(pd.DataFrame(dic_pred[nom], columns = [\"pred\"]).pred.value_counts().apply(lambda x: x/len(dic_pred[nom])))"
   ]
  },
  {
   "cell_type": "code",
   "execution_count": 49,
   "metadata": {},
   "outputs": [
    {
     "name": "stdout",
     "output_type": "stream",
     "text": [
      "accuracy train 0.8911\n",
      "accuracy test 0.8863\n",
      "accuracy valid 0.7463\n"
     ]
    }
   ],
   "source": [
    "for nom in [\"train\", \"test\", \"valid\"]:\n",
    "    print(\"accuracy \" + nom, round(accuracy_score(dic_y[nom], dic_pred[nom]),4))\n"
   ]
  },
  {
   "cell_type": "code",
   "execution_count": 50,
   "metadata": {},
   "outputs": [
    {
     "name": "stdout",
     "output_type": "stream",
     "text": [
      "precision train 0.336\n",
      "precision test 0.3215\n",
      "precision valid 0.5012\n"
     ]
    }
   ],
   "source": [
    "for nom in [\"train\", \"test\", \"valid\"]:\n",
    "    print(\"precision \" + nom, round(precision_score(dic_y[nom], dic_pred[nom]),4))"
   ]
  },
  {
   "cell_type": "code",
   "execution_count": 51,
   "metadata": {},
   "outputs": [
    {
     "name": "stdout",
     "output_type": "stream",
     "text": [
      "recall train 0.8914\n",
      "recall test 0.863\n",
      "recall valid 0.4697\n"
     ]
    }
   ],
   "source": [
    "for nom in [\"train\", \"test\", \"valid\"]:\n",
    "    print(\"recall \" + nom, round(recall_score(dic_y[nom], dic_pred[nom]),4))"
   ]
  },
  {
   "cell_type": "code",
   "execution_count": 52,
   "metadata": {},
   "outputs": [
    {
     "name": "stdout",
     "output_type": "stream",
     "text": [
      "F1 train 0.488\n",
      "F1 test 0.4684\n",
      "F1 valid 0.485\n"
     ]
    }
   ],
   "source": [
    "for nom in [\"train\", \"test\", \"valid\"]:\n",
    "    print(\"F1 \" + nom, round(f1_score(dic_y[nom], dic_pred[nom]),4))"
   ]
  },
  {
   "cell_type": "code",
   "execution_count": 53,
   "metadata": {},
   "outputs": [],
   "source": [
    "dic_fpr = {}\n",
    "dic_tpr = {}\n",
    "dic_threshold = {}\n",
    "dic_auc = {}\n",
    "\n",
    "for nom in [\"train\", \"test\", \"valid\"]:\n",
    "    dic_fpr[nom], dic_tpr[nom], thresholds = metrics.roc_curve(dic_y[nom], model.predict_proba(dic_X[nom])[:,1])\n",
    "    dic_auc[nom] = metrics.auc(dic_fpr[nom], dic_tpr[nom])"
   ]
  },
  {
   "cell_type": "code",
   "execution_count": 54,
   "metadata": {},
   "outputs": [
    {
     "data": {
      "image/png": "[encoded data removed]",
      "text/plain": [
       "<Figure size 432x288 with 1 Axes>"
      ]
     },
     "metadata": {
      "needs_background": "light"
     },
     "output_type": "display_data"
    }
   ],
   "source": [
    "plt.figure()\n",
    "\n",
    "dic_colors = {\"train\": \"darkorange\", \"test\": \"green\", \"valid\": \"blue\"}\n",
    "\n",
    "for nom in [\"train\", \"test\", \"valid\"]:\n",
    "    plt.plot(dic_fpr[nom], dic_tpr[nom], color = dic_colors[nom] , label='ROC curve (area = %0.2f)' % dic_auc[nom])\n",
    "    \n",
    "plt.plot([0, 1], [0, 1], color='navy', linestyle='--')\n",
    "plt.xlim([0.0, 1.0])\n",
    "plt.ylim([0.0, 1.05])\n",
    "plt.xlabel('False Positive Rate')\n",
    "plt.ylabel('True Positive Rate')\n",
    "plt.title('Receiver operating characteristic example')\n",
    "plt.legend(loc=\"lower right\")\n",
    "plt.show()"
   ]
  },
  {
   "cell_type": "markdown",
   "metadata": {},
   "source": [
    "#### Q.5 Observe t'on un phénomène particulier ? "
   ]
  },
  {
   "cell_type": "code",
   "execution_count": null,
   "metadata": {},
   "outputs": [],
   "source": []
  },
  {
   "cell_type": "markdown",
   "metadata": {},
   "source": [
    "### 2.6 Etude de l'arbitrage biais - variance (performance - robustesse)"
   ]
  },
  {
   "cell_type": "markdown",
   "metadata": {},
   "source": [
    "Il s'agit de rechercher le \"meilleur\" set d'hyperparamètres pour notre modèle. On essaie donc de chercher le meilleur arbitrage entre performance et robustesse du modèle. "
   ]
  },
  {
   "cell_type": "markdown",
   "metadata": {},
   "source": [
    "La performance consiste à avoir des scores élevés pour les différents métriques testées et la robustesse signifie avoir des métriques similaires au cours des différents apprentissages de la cross validation."
   ]
  },
  {
   "cell_type": "markdown",
   "metadata": {},
   "source": [
    "Lors de l'optimisation des hyperparamètres, il est possible de spécifier le score que l'on cherche à maximiser. Il semblerait qu'il y ait deux stratégies possibles pour la banque: \n",
    "- contacter un maximum de personnes pour avoir le plus de souscriptions possibles (avoir le recall le plus grand possible)\n",
    "- appeler un nombre limité de clients mais particuliérement bien ciblés (avoir la meilleure précision possible).\n",
    "\n",
    "N'ayant pas d'indications concernant la stratégie que la banque cherche à adopter, on a choisi de maximiser le f1 score."
   ]
  },
  {
   "cell_type": "markdown",
   "metadata": {},
   "source": [
    "#### Optimisation des hyperparamètres"
   ]
  },
  {
   "cell_type": "code",
   "execution_count": 55,
   "metadata": {},
   "outputs": [
    {
     "name": "stdout",
     "output_type": "stream",
     "text": [
      "(30291, 42) (14920, 42) (30291,) (14920,)\n"
     ]
    }
   ],
   "source": [
    "from sklearn.model_selection import train_test_split\n",
    "\n",
    "X = df_norm.drop([\"y_bin\"], axis = 1)\n",
    "y = df_norm[\"y_bin\"]\n",
    "X_train, X_test, y_train, y_test = train_test_split(X, y, test_size=0.33, random_state=42)\n",
    "print(np.shape(X_train), np.shape(X_test), np.shape(y_train), np.shape(y_test))"
   ]
  },
  {
   "cell_type": "markdown",
   "metadata": {},
   "source": [
    "On va jouer sur deux hyperparamètres qui nous semblent pertinents: le solver et la pondération des classes"
   ]
  },
  {
   "cell_type": "markdown",
   "metadata": {},
   "source": [
    "On peut se permettre de faire une gridsearchCV pour tester toutes les combinaisons possibles car il n'y en a que 6."
   ]
  },
  {
   "cell_type": "code",
   "execution_count": 63,
   "metadata": {},
   "outputs": [
    {
     "data": {
      "text/plain": [
       "GridSearchCV(cv=5, error_score=nan,\n",
       "             estimator=LogisticRegression(C=1.0, class_weight=None, dual=False,\n",
       "                                          fit_intercept=True,\n",
       "                                          intercept_scaling=1, l1_ratio=None,\n",
       "                                          max_iter=500, multi_class='auto',\n",
       "                                          n_jobs=None, penalty='l2',\n",
       "                                          random_state=None, solver='lbfgs',\n",
       "                                          tol=0.0001, verbose=0,\n",
       "                                          warm_start=False),\n",
       "             iid='deprecated', n_jobs=None,\n",
       "             param_grid={'class_weight': [None, 'balanced'],\n",
       "                         'solver': ['newton-cg', 'liblinear', 'sag']},\n",
       "             pre_dispatch='2*n_jobs', refit=True, return_train_score=False,\n",
       "             scoring='f1', verbose=0)"
      ]
     },
     "execution_count": 63,
     "metadata": {},
     "output_type": "execute_result"
    }
   ],
   "source": [
    "from sklearn.model_selection import GridSearchCV, RandomizedSearchCV\n",
    "from sklearn.linear_model import LogisticRegression\n",
    "\n",
    "solver_options = ['newton-cg', 'liblinear', 'sag']\n",
    "#multi_class_options = ['ovr', 'multinomial']\n",
    "#C_options = [0.1, 1, 10]\n",
    "class_weight_options = [None, 'balanced']\n",
    "\n",
    "param_grid = dict(solver = solver_options, class_weight = class_weight_options)\n",
    "\n",
    "#multi_class = multi_class_options\n",
    "#C = C_options\n",
    "\n",
    "grid = GridSearchCV(LogisticRegression(max_iter = 500), param_grid, cv=5, scoring = 'f1')\n",
    "\n",
    "grid.fit(X_train, y_train)"
   ]
  },
  {
   "cell_type": "markdown",
   "metadata": {},
   "source": [
    "On crée enfin un dataframe compilant les résultats afin de pouvoir comparer les différentes combinaisons d'hyperparamètres testées"
   ]
  },
  {
   "cell_type": "code",
   "execution_count": 62,
   "metadata": {},
   "outputs": [
    {
     "data": {
      "text/html": [
       "<div>\n",
       "<style scoped>\n",
       "    .dataframe tbody tr th:only-of-type {\n",
       "        vertical-align: middle;\n",
       "    }\n",
       "\n",
       "    .dataframe tbody tr th {\n",
       "        vertical-align: top;\n",
       "    }\n",
       "\n",
       "    .dataframe thead th {\n",
       "        text-align: right;\n",
       "    }\n",
       "</style>\n",
       "<table border=\"1\" class=\"dataframe\">\n",
       "  <thead>\n",
       "    <tr style=\"text-align: right;\">\n",
       "      <th></th>\n",
       "      <th>mean_fit_time</th>\n",
       "      <th>std_fit_time</th>\n",
       "      <th>mean_score_time</th>\n",
       "      <th>std_score_time</th>\n",
       "      <th>param_class_weight</th>\n",
       "      <th>param_solver</th>\n",
       "      <th>params</th>\n",
       "      <th>split0_test_score</th>\n",
       "      <th>split1_test_score</th>\n",
       "      <th>split2_test_score</th>\n",
       "      <th>split3_test_score</th>\n",
       "      <th>split4_test_score</th>\n",
       "      <th>mean_test_score</th>\n",
       "      <th>std_test_score</th>\n",
       "      <th>rank_test_score</th>\n",
       "    </tr>\n",
       "  </thead>\n",
       "  <tbody>\n",
       "    <tr>\n",
       "      <th>0</th>\n",
       "      <td>0.406642</td>\n",
       "      <td>0.023138</td>\n",
       "      <td>0.005781</td>\n",
       "      <td>0.000635</td>\n",
       "      <td>None</td>\n",
       "      <td>newton-cg</td>\n",
       "      <td>{'class_weight': None, 'solver': 'newton-cg'}</td>\n",
       "      <td>0.404276</td>\n",
       "      <td>0.446312</td>\n",
       "      <td>0.421769</td>\n",
       "      <td>0.434450</td>\n",
       "      <td>0.428571</td>\n",
       "      <td>0.427076</td>\n",
       "      <td>0.013962</td>\n",
       "      <td>5</td>\n",
       "    </tr>\n",
       "    <tr>\n",
       "      <th>1</th>\n",
       "      <td>0.176701</td>\n",
       "      <td>0.016504</td>\n",
       "      <td>0.006072</td>\n",
       "      <td>0.000907</td>\n",
       "      <td>None</td>\n",
       "      <td>liblinear</td>\n",
       "      <td>{'class_weight': None, 'solver': 'liblinear'}</td>\n",
       "      <td>0.408915</td>\n",
       "      <td>0.446312</td>\n",
       "      <td>0.421769</td>\n",
       "      <td>0.432950</td>\n",
       "      <td>0.429658</td>\n",
       "      <td>0.427921</td>\n",
       "      <td>0.012374</td>\n",
       "      <td>4</td>\n",
       "    </tr>\n",
       "    <tr>\n",
       "      <th>2</th>\n",
       "      <td>0.301872</td>\n",
       "      <td>0.023391</td>\n",
       "      <td>0.004702</td>\n",
       "      <td>0.000834</td>\n",
       "      <td>None</td>\n",
       "      <td>sag</td>\n",
       "      <td>{'class_weight': None, 'solver': 'sag'}</td>\n",
       "      <td>0.403883</td>\n",
       "      <td>0.447761</td>\n",
       "      <td>0.421769</td>\n",
       "      <td>0.432950</td>\n",
       "      <td>0.428571</td>\n",
       "      <td>0.426987</td>\n",
       "      <td>0.014357</td>\n",
       "      <td>6</td>\n",
       "    </tr>\n",
       "    <tr>\n",
       "      <th>3</th>\n",
       "      <td>0.476219</td>\n",
       "      <td>0.033699</td>\n",
       "      <td>0.005284</td>\n",
       "      <td>0.000393</td>\n",
       "      <td>balanced</td>\n",
       "      <td>newton-cg</td>\n",
       "      <td>{'class_weight': 'balanced', 'solver': 'newton...</td>\n",
       "      <td>0.558782</td>\n",
       "      <td>0.539713</td>\n",
       "      <td>0.559885</td>\n",
       "      <td>0.552529</td>\n",
       "      <td>0.560429</td>\n",
       "      <td>0.554267</td>\n",
       "      <td>0.007807</td>\n",
       "      <td>3</td>\n",
       "    </tr>\n",
       "    <tr>\n",
       "      <th>4</th>\n",
       "      <td>0.180521</td>\n",
       "      <td>0.013459</td>\n",
       "      <td>0.005527</td>\n",
       "      <td>0.000521</td>\n",
       "      <td>balanced</td>\n",
       "      <td>liblinear</td>\n",
       "      <td>{'class_weight': 'balanced', 'solver': 'liblin...</td>\n",
       "      <td>0.558516</td>\n",
       "      <td>0.539455</td>\n",
       "      <td>0.559615</td>\n",
       "      <td>0.552798</td>\n",
       "      <td>0.561831</td>\n",
       "      <td>0.554443</td>\n",
       "      <td>0.008066</td>\n",
       "      <td>2</td>\n",
       "    </tr>\n",
       "    <tr>\n",
       "      <th>5</th>\n",
       "      <td>0.966138</td>\n",
       "      <td>0.196828</td>\n",
       "      <td>0.004646</td>\n",
       "      <td>0.000586</td>\n",
       "      <td>balanced</td>\n",
       "      <td>sag</td>\n",
       "      <td>{'class_weight': 'balanced', 'solver': 'sag'}</td>\n",
       "      <td>0.560115</td>\n",
       "      <td>0.539971</td>\n",
       "      <td>0.559346</td>\n",
       "      <td>0.552529</td>\n",
       "      <td>0.561130</td>\n",
       "      <td>0.554618</td>\n",
       "      <td>0.007923</td>\n",
       "      <td>1</td>\n",
       "    </tr>\n",
       "  </tbody>\n",
       "</table>\n",
       "</div>"
      ],
      "text/plain": [
       "   mean_fit_time  std_fit_time  mean_score_time  std_score_time  \\\n",
       "0       0.406642      0.023138         0.005781        0.000635   \n",
       "1       0.176701      0.016504         0.006072        0.000907   \n",
       "2       0.301872      0.023391         0.004702        0.000834   \n",
       "3       0.476219      0.033699         0.005284        0.000393   \n",
       "4       0.180521      0.013459         0.005527        0.000521   \n",
       "5       0.966138      0.196828         0.004646        0.000586   \n",
       "\n",
       "  param_class_weight param_solver  \\\n",
       "0               None    newton-cg   \n",
       "1               None    liblinear   \n",
       "2               None          sag   \n",
       "3           balanced    newton-cg   \n",
       "4           balanced    liblinear   \n",
       "5           balanced          sag   \n",
       "\n",
       "                                              params  split0_test_score  \\\n",
       "0      {'class_weight': None, 'solver': 'newton-cg'}           0.404276   \n",
       "1      {'class_weight': None, 'solver': 'liblinear'}           0.408915   \n",
       "2            {'class_weight': None, 'solver': 'sag'}           0.403883   \n",
       "3  {'class_weight': 'balanced', 'solver': 'newton...           0.558782   \n",
       "4  {'class_weight': 'balanced', 'solver': 'liblin...           0.558516   \n",
       "5      {'class_weight': 'balanced', 'solver': 'sag'}           0.560115   \n",
       "\n",
       "   split1_test_score  split2_test_score  split3_test_score  split4_test_score  \\\n",
       "0           0.446312           0.421769           0.434450           0.428571   \n",
       "1           0.446312           0.421769           0.432950           0.429658   \n",
       "2           0.447761           0.421769           0.432950           0.428571   \n",
       "3           0.539713           0.559885           0.552529           0.560429   \n",
       "4           0.539455           0.559615           0.552798           0.561831   \n",
       "5           0.539971           0.559346           0.552529           0.561130   \n",
       "\n",
       "   mean_test_score  std_test_score  rank_test_score  \n",
       "0         0.427076        0.013962                5  \n",
       "1         0.427921        0.012374                4  \n",
       "2         0.426987        0.014357                6  \n",
       "3         0.554267        0.007807                3  \n",
       "4         0.554443        0.008066                2  \n",
       "5         0.554618        0.007923                1  "
      ]
     },
     "execution_count": 62,
     "metadata": {},
     "output_type": "execute_result"
    }
   ],
   "source": [
    "df_results = pd.DataFrame(grid.cv_results_)\n",
    "df_results"
   ]
  },
  {
   "cell_type": "markdown",
   "metadata": {},
   "source": [
    "On remarque que la class_weight est sur balanced, on gagne 0.13 en f1-score, ce qui est conséquent. De plus, la variance des résultats sur les différents sous échantillons diminue de moitié (de 0.014 à 0.007). En revanche le solver n'a que peu d'importance puisque les résultats sont semblables sur les 3 solvers. "
   ]
  },
  {
   "cell_type": "code",
   "execution_count": null,
   "metadata": {},
   "outputs": [],
   "source": []
  }
 ],
 "metadata": {
  "kernelspec": {
   "display_name": "Python 3",
   "language": "python",
   "name": "python3"
  },
  "language_info": {
   "codemirror_mode": {
    "name": "ipython",
    "version": 3
   },
   "file_extension": ".py",
   "mimetype": "text/x-python",
   "name": "python",
   "nbconvert_exporter": "python",
   "pygments_lexer": "ipython3",
   "version": "3.7.3"
  }
 },
 "nbformat": 4,
 "nbformat_minor": 4
}
