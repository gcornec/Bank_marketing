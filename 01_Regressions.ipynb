{
 "cells": [
  {
   "cell_type": "markdown",
   "metadata": {},
   "source": [
    "Dans ce notebook, on ne va chercher à faire des prédictions mais plutot à faire des régressions entre différentes variables afin de voir s'il est possible d'en expliquer certaines à partir d'autres. Concrètement, il s'agit de voir si le taux de souscription à un dépôt de long terme peut être expliquée par d'autres variables."
   ]
  },
  {
   "cell_type": "markdown",
   "metadata": {},
   "source": [
    "## 1. Import des librairies et chargement des données "
   ]
  },
  {
   "cell_type": "code",
   "execution_count": 2,
   "metadata": {},
   "outputs": [],
   "source": [
    "import pandas as pd\n",
    "import numpy as np\n",
    "from Preprocessing import preprocessing\n",
    "import statsmodels.api as sm\n",
    "from sklearn import linear_model\n",
    "\n",
    "pd.set_option('display.max_columns', 100)\n",
    "pd.set_option('display.max_rows', 100)"
   ]
  },
  {
   "cell_type": "code",
   "execution_count": 3,
   "metadata": {},
   "outputs": [
    {
     "data": {
      "text/html": [
       "<div>\n",
       "<style scoped>\n",
       "    .dataframe tbody tr th:only-of-type {\n",
       "        vertical-align: middle;\n",
       "    }\n",
       "\n",
       "    .dataframe tbody tr th {\n",
       "        vertical-align: top;\n",
       "    }\n",
       "\n",
       "    .dataframe thead th {\n",
       "        text-align: right;\n",
       "    }\n",
       "</style>\n",
       "<table border=\"1\" class=\"dataframe\">\n",
       "  <thead>\n",
       "    <tr style=\"text-align: right;\">\n",
       "      <th></th>\n",
       "      <th>age</th>\n",
       "      <th>job</th>\n",
       "      <th>marital</th>\n",
       "      <th>education</th>\n",
       "      <th>default</th>\n",
       "      <th>balance</th>\n",
       "      <th>housing</th>\n",
       "      <th>loan</th>\n",
       "      <th>contact</th>\n",
       "      <th>day</th>\n",
       "      <th>month</th>\n",
       "      <th>duration</th>\n",
       "      <th>campaign</th>\n",
       "      <th>pdays</th>\n",
       "      <th>previous</th>\n",
       "      <th>poutcome</th>\n",
       "      <th>y</th>\n",
       "    </tr>\n",
       "  </thead>\n",
       "  <tbody>\n",
       "    <tr>\n",
       "      <th>0</th>\n",
       "      <td>58</td>\n",
       "      <td>management</td>\n",
       "      <td>married</td>\n",
       "      <td>tertiary</td>\n",
       "      <td>no</td>\n",
       "      <td>2143</td>\n",
       "      <td>yes</td>\n",
       "      <td>no</td>\n",
       "      <td>unknown</td>\n",
       "      <td>5</td>\n",
       "      <td>may</td>\n",
       "      <td>261</td>\n",
       "      <td>1</td>\n",
       "      <td>-1</td>\n",
       "      <td>0</td>\n",
       "      <td>unknown</td>\n",
       "      <td>no</td>\n",
       "    </tr>\n",
       "    <tr>\n",
       "      <th>1</th>\n",
       "      <td>44</td>\n",
       "      <td>technician</td>\n",
       "      <td>single</td>\n",
       "      <td>secondary</td>\n",
       "      <td>no</td>\n",
       "      <td>29</td>\n",
       "      <td>yes</td>\n",
       "      <td>no</td>\n",
       "      <td>unknown</td>\n",
       "      <td>5</td>\n",
       "      <td>may</td>\n",
       "      <td>151</td>\n",
       "      <td>1</td>\n",
       "      <td>-1</td>\n",
       "      <td>0</td>\n",
       "      <td>unknown</td>\n",
       "      <td>no</td>\n",
       "    </tr>\n",
       "    <tr>\n",
       "      <th>2</th>\n",
       "      <td>33</td>\n",
       "      <td>entrepreneur</td>\n",
       "      <td>married</td>\n",
       "      <td>secondary</td>\n",
       "      <td>no</td>\n",
       "      <td>2</td>\n",
       "      <td>yes</td>\n",
       "      <td>yes</td>\n",
       "      <td>unknown</td>\n",
       "      <td>5</td>\n",
       "      <td>may</td>\n",
       "      <td>76</td>\n",
       "      <td>1</td>\n",
       "      <td>-1</td>\n",
       "      <td>0</td>\n",
       "      <td>unknown</td>\n",
       "      <td>no</td>\n",
       "    </tr>\n",
       "    <tr>\n",
       "      <th>3</th>\n",
       "      <td>47</td>\n",
       "      <td>blue-collar</td>\n",
       "      <td>married</td>\n",
       "      <td>unknown</td>\n",
       "      <td>no</td>\n",
       "      <td>1506</td>\n",
       "      <td>yes</td>\n",
       "      <td>no</td>\n",
       "      <td>unknown</td>\n",
       "      <td>5</td>\n",
       "      <td>may</td>\n",
       "      <td>92</td>\n",
       "      <td>1</td>\n",
       "      <td>-1</td>\n",
       "      <td>0</td>\n",
       "      <td>unknown</td>\n",
       "      <td>no</td>\n",
       "    </tr>\n",
       "    <tr>\n",
       "      <th>4</th>\n",
       "      <td>33</td>\n",
       "      <td>unknown</td>\n",
       "      <td>single</td>\n",
       "      <td>unknown</td>\n",
       "      <td>no</td>\n",
       "      <td>1</td>\n",
       "      <td>no</td>\n",
       "      <td>no</td>\n",
       "      <td>unknown</td>\n",
       "      <td>5</td>\n",
       "      <td>may</td>\n",
       "      <td>198</td>\n",
       "      <td>1</td>\n",
       "      <td>-1</td>\n",
       "      <td>0</td>\n",
       "      <td>unknown</td>\n",
       "      <td>no</td>\n",
       "    </tr>\n",
       "  </tbody>\n",
       "</table>\n",
       "</div>"
      ],
      "text/plain": [
       "   age           job  marital  education default  balance housing loan  \\\n",
       "0   58    management  married   tertiary      no     2143     yes   no   \n",
       "1   44    technician   single  secondary      no       29     yes   no   \n",
       "2   33  entrepreneur  married  secondary      no        2     yes  yes   \n",
       "3   47   blue-collar  married    unknown      no     1506     yes   no   \n",
       "4   33       unknown   single    unknown      no        1      no   no   \n",
       "\n",
       "   contact  day month  duration  campaign  pdays  previous poutcome   y  \n",
       "0  unknown    5   may       261         1     -1         0  unknown  no  \n",
       "1  unknown    5   may       151         1     -1         0  unknown  no  \n",
       "2  unknown    5   may        76         1     -1         0  unknown  no  \n",
       "3  unknown    5   may        92         1     -1         0  unknown  no  \n",
       "4  unknown    5   may       198         1     -1         0  unknown  no  "
      ]
     },
     "execution_count": 3,
     "metadata": {},
     "output_type": "execute_result"
    }
   ],
   "source": [
    "df = pd.read_csv(\"bank-full.csv\",  sep = \";\")\n",
    "df.head()"
   ]
  },
  {
   "cell_type": "code",
   "execution_count": 4,
   "metadata": {},
   "outputs": [
    {
     "data": {
      "text/plain": [
       "(45211, 17)"
      ]
     },
     "execution_count": 4,
     "metadata": {},
     "output_type": "execute_result"
    }
   ],
   "source": [
    "np.shape(df)"
   ]
  },
  {
   "cell_type": "markdown",
   "metadata": {},
   "source": [
    "On a 45211 observations pour 17 variables\n",
    "- La variable d'intérêt (cible) est \"y\", représentant le taux de souscription à un dépôt de long terme\n",
    "- On observe 7 variables numériques: \"age\", \"balance\", \"day\", \"duration\", \"campaign\", \"pdays\" et \"previous\" (même si \"day\" pourrait être considéré comme une variable catégorielle)\n",
    "- On observe 10 variables catégorielles:\n",
    "    * 4 variables binaires: \"default\", \"housing\", \"loan\" et \"y\"\n",
    "    * 6 variables avec strictement plus de 2 modalités: \"job\", \"marital\", \"education\", contact\", \"month\" et \"poutcome\""
   ]
  },
  {
   "cell_type": "code",
   "execution_count": 6,
   "metadata": {},
   "outputs": [],
   "source": [
    "var_bin = [\"default\", \"housing\", \"loan\", \"y\"]\n",
    "var_cat = [\"job\",\"marital\", \"education\", \"contact\", \"month\", \"poutcome\"]"
   ]
  },
  {
   "cell_type": "markdown",
   "metadata": {},
   "source": [
    "## 2. Regression linéaire sur le taux de souscription"
   ]
  },
  {
   "cell_type": "markdown",
   "metadata": {},
   "source": [
    "On va vite se rendre compte qu'une régression linéaire n'est pas pertinente pour expliquer le comportement d'une variable binaire à partir d'une majorité de variables catégorielles mais on le fait quand même pour l'exercice."
   ]
  },
  {
   "cell_type": "markdown",
   "metadata": {},
   "source": [
    "Pour une regression linéaire, on utilise uniquement les variables numériques (ou les variables catégorielles ordinales)."
   ]
  },
  {
   "cell_type": "code",
   "execution_count": 5,
   "metadata": {},
   "outputs": [],
   "source": [
    "#Encoding binaire grâce à la fonction factorize de pandas \n",
    "df[\"y_bin\"] = pd.factorize(df[\"y\"])[0]\n",
    "\n",
    "X = df.drop(columns=[\"y_bin\"]+var_bin+var_cat, axis = 1)\n",
    "y = df.y_bin"
   ]
  },
  {
   "cell_type": "markdown",
   "metadata": {},
   "source": [
    "### 2.1 Modèle scikit"
   ]
  },
  {
   "cell_type": "code",
   "execution_count": 13,
   "metadata": {},
   "outputs": [
    {
     "data": {
      "text/plain": [
       "LinearRegression(copy_X=True, fit_intercept=True, n_jobs=None, normalize=False)"
      ]
     },
     "execution_count": 13,
     "metadata": {},
     "output_type": "execute_result"
    }
   ],
   "source": [
    "model = linear_model.LinearRegression()\n",
    "model.fit(X, y)"
   ]
  },
  {
   "cell_type": "code",
   "execution_count": 14,
   "metadata": {},
   "outputs": [
    {
     "name": "stdout",
     "output_type": "stream",
     "text": [
      "-0.05036613824138704 [ 7.53699141e-04  4.25692230e-06 -5.72659963e-05  4.88198516e-04\n",
      " -3.19288543e-03  2.44627116e-04  7.85726699e-03]\n"
     ]
    }
   ],
   "source": [
    "print(model.intercept_, model.coef_)"
   ]
  },
  {
   "cell_type": "markdown",
   "metadata": {},
   "source": [
    "On peut observer deux types de paramètres: \n",
    "- L'intercept correspond à la constante dans l'équation d'une régression linéaire.\n",
    "- Les autres paramètres correspondent aux différents coefficients devant les variables prises en compte pour faire la régression."
   ]
  },
  {
   "cell_type": "markdown",
   "metadata": {},
   "source": [
    "On observe que les coefficients de la regression sont particulièrement faibles et donc que l'influence de chacune des variables sur la souscription est très réduite."
   ]
  },
  {
   "cell_type": "code",
   "execution_count": 10,
   "metadata": {},
   "outputs": [
    {
     "data": {
      "text/plain": [
       "0.1725236594584415"
      ]
     },
     "execution_count": 10,
     "metadata": {},
     "output_type": "execute_result"
    }
   ],
   "source": [
    "model.score(X, y)"
   ]
  },
  {
   "cell_type": "markdown",
   "metadata": {},
   "source": [
    "On observe également un faible R2 qui montre bien que la régressio linéaire n'est pas une bonne approche pour modéliser le comportement de la variable cible."
   ]
  },
  {
   "cell_type": "markdown",
   "metadata": {},
   "source": [
    "### 2.2 Modèle statmodels"
   ]
  },
  {
   "cell_type": "code",
   "execution_count": 21,
   "metadata": {},
   "outputs": [
    {
     "name": "stdout",
     "output_type": "stream",
     "text": [
      "                                 OLS Regression Results                                \n",
      "=======================================================================================\n",
      "Dep. Variable:                  y_bin   R-squared (uncentered):                   0.268\n",
      "Model:                            OLS   Adj. R-squared (uncentered):              0.268\n",
      "Method:                 Least Squares   F-statistic:                              2368.\n",
      "Date:                Mon, 17 Feb 2020   Prob (F-statistic):                        0.00\n",
      "Time:                        16:52:38   Log-Likelihood:                         -8584.3\n",
      "No. Observations:               45211   AIC:                                  1.718e+04\n",
      "Df Residuals:                   45204   BIC:                                  1.724e+04\n",
      "Df Model:                           7                                                  \n",
      "Covariance Type:            nonrobust                                                  \n",
      "==============================================================================\n",
      "                 coef    std err          t      P>|t|      [0.025      0.975]\n",
      "------------------------------------------------------------------------------\n",
      "age        -9.445e-05   7.28e-05     -1.298      0.194      -0.000    4.82e-05\n",
      "balance     4.225e-06   4.54e-07      9.300      0.000    3.33e-06    5.12e-06\n",
      "day           -0.0006      0.000     -3.849      0.000      -0.001      -0.000\n",
      "duration       0.0005    5.2e-06     91.852      0.000       0.000       0.000\n",
      "campaign      -0.0037      0.000     -8.340      0.000      -0.005      -0.003\n",
      "pdays          0.0002   1.54e-05     14.823      0.000       0.000       0.000\n",
      "previous       0.0078      0.001     11.649      0.000       0.007       0.009\n",
      "==============================================================================\n",
      "Omnibus:                    16182.473   Durbin-Watson:                   1.528\n",
      "Prob(Omnibus):                  0.000   Jarque-Bera (JB):            52880.845\n",
      "Skew:                           1.859   Prob(JB):                         0.00\n",
      "Kurtosis:                       6.774   Cond. No.                     1.63e+03\n",
      "==============================================================================\n",
      "\n",
      "Warnings:\n",
      "[1] Standard Errors assume that the covariance matrix of the errors is correctly specified.\n",
      "[2] The condition number is large, 1.63e+03. This might indicate that there are\n",
      "strong multicollinearity or other numerical problems.\n"
     ]
    }
   ],
   "source": [
    "model = sm.OLS(y, X)\n",
    "results = model.fit()\n",
    "# Avec  statsmodel, on a une sortie qui ressemble beaucoup à celle de R\n",
    "print(results.summary())"
   ]
  },
  {
   "cell_type": "markdown",
   "metadata": {},
   "source": [
    "On remarque que le R2 est légèrement meilleur avec statmodels même s'il reste assez faible. "
   ]
  },
  {
   "cell_type": "markdown",
   "metadata": {},
   "source": [
    "La colonne intéressante à regarder est \"P>|t|\" (cela s'appelle la p-value pour ceux qui veulent creuser) qui indique si les coefficients associés à chaque variable sont statistiquement significatifs. Si le nombre indiqué est supérieur à 0.05 (comme c'est le cas pour l'âge), cela signifie que le coefficient n'est pas statistiquement significatif. "
   ]
  },
  {
   "cell_type": "markdown",
   "metadata": {},
   "source": [
    "Même si les autres coefficients sont significatifs, on voit qu'ils sont très faibles. Ils influent donc peu sur le taux de souscription. De plus, l'interprétation de ces coefficients est assez difficile puisque la variable cible est binaire. Cependant, on pourrait par exemple dire qu'augmenter le nombre de contact avant campagne (previous) de 100 permet semble ajouter 78% de chance de souscription (ce qui semble malgré tout assez peu vraisemblable). De même, augmenter la durée des appels de 1000 secondes semblerait ajouter 50% de chance de souscription (ce qui va à l'encontre des analyses descriptives faite précédemment). D'où l'interêt de faire des analyses descriptives poussées ! "
   ]
  },
  {
   "cell_type": "markdown",
   "metadata": {},
   "source": [
    "## 3. Regression logistique sur le taux de souscription"
   ]
  },
  {
   "cell_type": "markdown",
   "metadata": {},
   "source": [
    "On a créé un script \"Preprocessing.py\" qui permet de faire des transformations du dataset et notamment un one-hot encoding des variables catégorielles"
   ]
  },
  {
   "cell_type": "code",
   "execution_count": 25,
   "metadata": {},
   "outputs": [],
   "source": [
    "from Preprocessing import preprocessing\n",
    "\n",
    "df_prep = preprocessing(df, var_bin, var_cat)"
   ]
  },
  {
   "cell_type": "code",
   "execution_count": 26,
   "metadata": {},
   "outputs": [
    {
     "data": {
      "text/html": [
       "<div>\n",
       "<style scoped>\n",
       "    .dataframe tbody tr th:only-of-type {\n",
       "        vertical-align: middle;\n",
       "    }\n",
       "\n",
       "    .dataframe tbody tr th {\n",
       "        vertical-align: top;\n",
       "    }\n",
       "\n",
       "    .dataframe thead th {\n",
       "        text-align: right;\n",
       "    }\n",
       "</style>\n",
       "<table border=\"1\" class=\"dataframe\">\n",
       "  <thead>\n",
       "    <tr style=\"text-align: right;\">\n",
       "      <th></th>\n",
       "      <th>age</th>\n",
       "      <th>balance</th>\n",
       "      <th>day</th>\n",
       "      <th>duration</th>\n",
       "      <th>campaign</th>\n",
       "      <th>pdays</th>\n",
       "      <th>previous</th>\n",
       "      <th>y_bin</th>\n",
       "      <th>default_bin</th>\n",
       "      <th>housing_bin</th>\n",
       "      <th>loan_bin</th>\n",
       "      <th>job_blue-collar</th>\n",
       "      <th>job_entrepreneur</th>\n",
       "      <th>job_housemaid</th>\n",
       "      <th>job_management</th>\n",
       "      <th>job_retired</th>\n",
       "      <th>job_self-employed</th>\n",
       "      <th>job_services</th>\n",
       "      <th>job_student</th>\n",
       "      <th>job_technician</th>\n",
       "      <th>job_unemployed</th>\n",
       "      <th>job_unknown</th>\n",
       "      <th>marital_married</th>\n",
       "      <th>marital_single</th>\n",
       "      <th>education_secondary</th>\n",
       "      <th>education_tertiary</th>\n",
       "      <th>education_unknown</th>\n",
       "      <th>contact_telephone</th>\n",
       "      <th>contact_unknown</th>\n",
       "      <th>month_aug</th>\n",
       "      <th>month_dec</th>\n",
       "      <th>month_feb</th>\n",
       "      <th>month_jan</th>\n",
       "      <th>month_jul</th>\n",
       "      <th>month_jun</th>\n",
       "      <th>month_mar</th>\n",
       "      <th>month_may</th>\n",
       "      <th>month_nov</th>\n",
       "      <th>month_oct</th>\n",
       "      <th>month_sep</th>\n",
       "      <th>poutcome_other</th>\n",
       "      <th>poutcome_success</th>\n",
       "      <th>poutcome_unknown</th>\n",
       "    </tr>\n",
       "  </thead>\n",
       "  <tbody>\n",
       "    <tr>\n",
       "      <th>0</th>\n",
       "      <td>58</td>\n",
       "      <td>2143</td>\n",
       "      <td>5</td>\n",
       "      <td>261</td>\n",
       "      <td>1</td>\n",
       "      <td>-1</td>\n",
       "      <td>0</td>\n",
       "      <td>0</td>\n",
       "      <td>0</td>\n",
       "      <td>1</td>\n",
       "      <td>0</td>\n",
       "      <td>0</td>\n",
       "      <td>0</td>\n",
       "      <td>0</td>\n",
       "      <td>1</td>\n",
       "      <td>0</td>\n",
       "      <td>0</td>\n",
       "      <td>0</td>\n",
       "      <td>0</td>\n",
       "      <td>0</td>\n",
       "      <td>0</td>\n",
       "      <td>0</td>\n",
       "      <td>1</td>\n",
       "      <td>0</td>\n",
       "      <td>0</td>\n",
       "      <td>1</td>\n",
       "      <td>0</td>\n",
       "      <td>0</td>\n",
       "      <td>1</td>\n",
       "      <td>0</td>\n",
       "      <td>0</td>\n",
       "      <td>0</td>\n",
       "      <td>0</td>\n",
       "      <td>0</td>\n",
       "      <td>0</td>\n",
       "      <td>0</td>\n",
       "      <td>1</td>\n",
       "      <td>0</td>\n",
       "      <td>0</td>\n",
       "      <td>0</td>\n",
       "      <td>0</td>\n",
       "      <td>0</td>\n",
       "      <td>1</td>\n",
       "    </tr>\n",
       "    <tr>\n",
       "      <th>1</th>\n",
       "      <td>44</td>\n",
       "      <td>29</td>\n",
       "      <td>5</td>\n",
       "      <td>151</td>\n",
       "      <td>1</td>\n",
       "      <td>-1</td>\n",
       "      <td>0</td>\n",
       "      <td>0</td>\n",
       "      <td>0</td>\n",
       "      <td>1</td>\n",
       "      <td>0</td>\n",
       "      <td>0</td>\n",
       "      <td>0</td>\n",
       "      <td>0</td>\n",
       "      <td>0</td>\n",
       "      <td>0</td>\n",
       "      <td>0</td>\n",
       "      <td>0</td>\n",
       "      <td>0</td>\n",
       "      <td>1</td>\n",
       "      <td>0</td>\n",
       "      <td>0</td>\n",
       "      <td>0</td>\n",
       "      <td>1</td>\n",
       "      <td>1</td>\n",
       "      <td>0</td>\n",
       "      <td>0</td>\n",
       "      <td>0</td>\n",
       "      <td>1</td>\n",
       "      <td>0</td>\n",
       "      <td>0</td>\n",
       "      <td>0</td>\n",
       "      <td>0</td>\n",
       "      <td>0</td>\n",
       "      <td>0</td>\n",
       "      <td>0</td>\n",
       "      <td>1</td>\n",
       "      <td>0</td>\n",
       "      <td>0</td>\n",
       "      <td>0</td>\n",
       "      <td>0</td>\n",
       "      <td>0</td>\n",
       "      <td>1</td>\n",
       "    </tr>\n",
       "    <tr>\n",
       "      <th>2</th>\n",
       "      <td>33</td>\n",
       "      <td>2</td>\n",
       "      <td>5</td>\n",
       "      <td>76</td>\n",
       "      <td>1</td>\n",
       "      <td>-1</td>\n",
       "      <td>0</td>\n",
       "      <td>0</td>\n",
       "      <td>0</td>\n",
       "      <td>1</td>\n",
       "      <td>1</td>\n",
       "      <td>0</td>\n",
       "      <td>1</td>\n",
       "      <td>0</td>\n",
       "      <td>0</td>\n",
       "      <td>0</td>\n",
       "      <td>0</td>\n",
       "      <td>0</td>\n",
       "      <td>0</td>\n",
       "      <td>0</td>\n",
       "      <td>0</td>\n",
       "      <td>0</td>\n",
       "      <td>1</td>\n",
       "      <td>0</td>\n",
       "      <td>1</td>\n",
       "      <td>0</td>\n",
       "      <td>0</td>\n",
       "      <td>0</td>\n",
       "      <td>1</td>\n",
       "      <td>0</td>\n",
       "      <td>0</td>\n",
       "      <td>0</td>\n",
       "      <td>0</td>\n",
       "      <td>0</td>\n",
       "      <td>0</td>\n",
       "      <td>0</td>\n",
       "      <td>1</td>\n",
       "      <td>0</td>\n",
       "      <td>0</td>\n",
       "      <td>0</td>\n",
       "      <td>0</td>\n",
       "      <td>0</td>\n",
       "      <td>1</td>\n",
       "    </tr>\n",
       "    <tr>\n",
       "      <th>3</th>\n",
       "      <td>47</td>\n",
       "      <td>1506</td>\n",
       "      <td>5</td>\n",
       "      <td>92</td>\n",
       "      <td>1</td>\n",
       "      <td>-1</td>\n",
       "      <td>0</td>\n",
       "      <td>0</td>\n",
       "      <td>0</td>\n",
       "      <td>1</td>\n",
       "      <td>0</td>\n",
       "      <td>1</td>\n",
       "      <td>0</td>\n",
       "      <td>0</td>\n",
       "      <td>0</td>\n",
       "      <td>0</td>\n",
       "      <td>0</td>\n",
       "      <td>0</td>\n",
       "      <td>0</td>\n",
       "      <td>0</td>\n",
       "      <td>0</td>\n",
       "      <td>0</td>\n",
       "      <td>1</td>\n",
       "      <td>0</td>\n",
       "      <td>0</td>\n",
       "      <td>0</td>\n",
       "      <td>1</td>\n",
       "      <td>0</td>\n",
       "      <td>1</td>\n",
       "      <td>0</td>\n",
       "      <td>0</td>\n",
       "      <td>0</td>\n",
       "      <td>0</td>\n",
       "      <td>0</td>\n",
       "      <td>0</td>\n",
       "      <td>0</td>\n",
       "      <td>1</td>\n",
       "      <td>0</td>\n",
       "      <td>0</td>\n",
       "      <td>0</td>\n",
       "      <td>0</td>\n",
       "      <td>0</td>\n",
       "      <td>1</td>\n",
       "    </tr>\n",
       "    <tr>\n",
       "      <th>4</th>\n",
       "      <td>33</td>\n",
       "      <td>1</td>\n",
       "      <td>5</td>\n",
       "      <td>198</td>\n",
       "      <td>1</td>\n",
       "      <td>-1</td>\n",
       "      <td>0</td>\n",
       "      <td>0</td>\n",
       "      <td>0</td>\n",
       "      <td>0</td>\n",
       "      <td>0</td>\n",
       "      <td>0</td>\n",
       "      <td>0</td>\n",
       "      <td>0</td>\n",
       "      <td>0</td>\n",
       "      <td>0</td>\n",
       "      <td>0</td>\n",
       "      <td>0</td>\n",
       "      <td>0</td>\n",
       "      <td>0</td>\n",
       "      <td>0</td>\n",
       "      <td>1</td>\n",
       "      <td>0</td>\n",
       "      <td>1</td>\n",
       "      <td>0</td>\n",
       "      <td>0</td>\n",
       "      <td>1</td>\n",
       "      <td>0</td>\n",
       "      <td>1</td>\n",
       "      <td>0</td>\n",
       "      <td>0</td>\n",
       "      <td>0</td>\n",
       "      <td>0</td>\n",
       "      <td>0</td>\n",
       "      <td>0</td>\n",
       "      <td>0</td>\n",
       "      <td>1</td>\n",
       "      <td>0</td>\n",
       "      <td>0</td>\n",
       "      <td>0</td>\n",
       "      <td>0</td>\n",
       "      <td>0</td>\n",
       "      <td>1</td>\n",
       "    </tr>\n",
       "  </tbody>\n",
       "</table>\n",
       "</div>"
      ],
      "text/plain": [
       "   age  balance  day  duration  campaign  pdays  previous  y_bin  default_bin  \\\n",
       "0   58     2143    5       261         1     -1         0      0            0   \n",
       "1   44       29    5       151         1     -1         0      0            0   \n",
       "2   33        2    5        76         1     -1         0      0            0   \n",
       "3   47     1506    5        92         1     -1         0      0            0   \n",
       "4   33        1    5       198         1     -1         0      0            0   \n",
       "\n",
       "   housing_bin  loan_bin  job_blue-collar  job_entrepreneur  job_housemaid  \\\n",
       "0            1         0                0                 0              0   \n",
       "1            1         0                0                 0              0   \n",
       "2            1         1                0                 1              0   \n",
       "3            1         0                1                 0              0   \n",
       "4            0         0                0                 0              0   \n",
       "\n",
       "   job_management  job_retired  job_self-employed  job_services  job_student  \\\n",
       "0               1            0                  0             0            0   \n",
       "1               0            0                  0             0            0   \n",
       "2               0            0                  0             0            0   \n",
       "3               0            0                  0             0            0   \n",
       "4               0            0                  0             0            0   \n",
       "\n",
       "   job_technician  job_unemployed  job_unknown  marital_married  \\\n",
       "0               0               0            0                1   \n",
       "1               1               0            0                0   \n",
       "2               0               0            0                1   \n",
       "3               0               0            0                1   \n",
       "4               0               0            1                0   \n",
       "\n",
       "   marital_single  education_secondary  education_tertiary  education_unknown  \\\n",
       "0               0                    0                   1                  0   \n",
       "1               1                    1                   0                  0   \n",
       "2               0                    1                   0                  0   \n",
       "3               0                    0                   0                  1   \n",
       "4               1                    0                   0                  1   \n",
       "\n",
       "   contact_telephone  contact_unknown  month_aug  month_dec  month_feb  \\\n",
       "0                  0                1          0          0          0   \n",
       "1                  0                1          0          0          0   \n",
       "2                  0                1          0          0          0   \n",
       "3                  0                1          0          0          0   \n",
       "4                  0                1          0          0          0   \n",
       "\n",
       "   month_jan  month_jul  month_jun  month_mar  month_may  month_nov  \\\n",
       "0          0          0          0          0          1          0   \n",
       "1          0          0          0          0          1          0   \n",
       "2          0          0          0          0          1          0   \n",
       "3          0          0          0          0          1          0   \n",
       "4          0          0          0          0          1          0   \n",
       "\n",
       "   month_oct  month_sep  poutcome_other  poutcome_success  poutcome_unknown  \n",
       "0          0          0               0                 0                 1  \n",
       "1          0          0               0                 0                 1  \n",
       "2          0          0               0                 0                 1  \n",
       "3          0          0               0                 0                 1  \n",
       "4          0          0               0                 0                 1  "
      ]
     },
     "execution_count": 26,
     "metadata": {},
     "output_type": "execute_result"
    }
   ],
   "source": [
    "df_prep.head()"
   ]
  },
  {
   "cell_type": "code",
   "execution_count": 27,
   "metadata": {},
   "outputs": [],
   "source": [
    "X = df_prep.drop(columns=[\"y_bin\"], axis = 1)\n",
    "y = df_prep.y_bin"
   ]
  },
  {
   "cell_type": "markdown",
   "metadata": {},
   "source": [
    "### 3.1 Modèle scikit"
   ]
  },
  {
   "cell_type": "code",
   "execution_count": 64,
   "metadata": {},
   "outputs": [
    {
     "data": {
      "text/plain": [
       "LogisticRegression(C=1.0, class_weight=None, dual=False, fit_intercept=True,\n",
       "                   intercept_scaling=1, l1_ratio=None, max_iter=100,\n",
       "                   multi_class='auto', n_jobs=None, penalty='l2',\n",
       "                   random_state=None, solver='liblinear', tol=0.0001, verbose=0,\n",
       "                   warm_start=False)"
      ]
     },
     "execution_count": 64,
     "metadata": {},
     "output_type": "execute_result"
    }
   ],
   "source": [
    "model = linear_model.LogisticRegression(solver = \"liblinear\")\n",
    "model.fit(X, y)"
   ]
  },
  {
   "cell_type": "markdown",
   "metadata": {},
   "source": [
    "Une fois le modèle entrainé, on peut récupérer les coefficients de la regression logistique grâce aux commandes suivantes. "
   ]
  },
  {
   "cell_type": "code",
   "execution_count": 65,
   "metadata": {},
   "outputs": [
    {
     "name": "stdout",
     "output_type": "stream",
     "text": [
      "[-1.5192664] [[-6.99625226e-03  1.29742046e-05  6.46730418e-03  4.14691801e-03\n",
      "  -9.35766160e-02 -6.58804239e-04  1.30657531e-02 -4.91783299e-02\n",
      "  -7.15991280e-01 -4.02549136e-01 -3.84912936e-01 -3.43140758e-01\n",
      "  -5.07890184e-01 -1.55123324e-01  3.17380084e-01 -2.93804475e-01\n",
      "  -2.20018144e-01  3.03494646e-01 -1.60796272e-01 -1.89948114e-01\n",
      "  -1.29123929e-01 -3.32330667e-01 -1.01011140e-01  5.64433834e-02\n",
      "   2.13089524e-01  1.24442768e-01 -1.66701904e-01 -1.61163163e+00\n",
      "  -8.22906872e-01  4.15657220e-01 -3.57545008e-01 -1.41075646e+00\n",
      "  -9.90168248e-01  2.73716757e-01  1.50992561e+00 -5.46017058e-01\n",
      "  -1.00696177e+00  7.49096857e-01  7.22775854e-01  9.10063932e-02\n",
      "   2.04349706e+00 -3.03764694e-01]]\n"
     ]
    }
   ],
   "source": [
    "print(model.intercept_, model.coef_)"
   ]
  },
  {
   "cell_type": "code",
   "execution_count": 66,
   "metadata": {},
   "outputs": [
    {
     "name": "stdout",
     "output_type": "stream",
     "text": [
      "age 0.9930281645417701\n",
      "balance 1.0000129742887303\n",
      "day 1.006488262349426\n",
      "duration 1.0041555283711743\n",
      "campaign 0.9106682430042564\n",
      "pdays 0.9993414127252553\n",
      "previous 1.0131514830619113\n",
      "default_bin 0.9520113425040673\n",
      "housing_bin 0.4887074259269507\n",
      "loan_bin 0.6686134854216622\n",
      "job_blue-collar 0.6805098814169571\n",
      "job_entrepreneur 0.709538331462123\n",
      "job_housemaid 0.6017638512692465\n",
      "job_management 0.8563095674245043\n",
      "job_retired 1.3735245275491184\n",
      "job_self-employed 0.7454222259747062\n",
      "job_services 0.8025042369736011\n",
      "job_student 1.354584338970554\n",
      "job_technician 0.8514655204820484\n",
      "job_unemployed 0.8270020430472041\n",
      "job_unknown 0.8788650418447425\n",
      "marital_married 0.7172501124056774\n",
      "marital_single 0.9039229635226524\n",
      "education_secondary 1.0580667089955422\n",
      "education_tertiary 1.2374954314179658\n",
      "education_unknown 1.1325172029468622\n",
      "contact_telephone 0.8464518978582137\n",
      "contact_unknown 0.199561736606867\n",
      "month_aug 0.4391532348588855\n",
      "month_dec 1.5153663426140322\n",
      "month_feb 0.6993912203678483\n",
      "month_jan 0.2439586674651297\n",
      "month_jul 0.3715141792975559\n",
      "month_jun 1.314842329723642\n",
      "month_mar 4.526394069191045\n",
      "month_may 0.5792523501300463\n",
      "month_nov 0.3653272428786605\n",
      "month_oct 2.115088925391234\n",
      "month_sep 2.0601439388296026\n",
      "poutcome_other 1.0952760075877026\n",
      "poutcome_success 7.7175507964908086\n",
      "poutcome_unknown 0.7380345099700673\n"
     ]
    }
   ],
   "source": [
    "for i in range(len(X.columns)):\n",
    "    print(X.columns[i], np.exp(model.coef_[0][i]))"
   ]
  },
  {
   "cell_type": "markdown",
   "metadata": {},
   "source": [
    "Ces coefficients peuvent être interprés de manière assez simple. Par exemple, une personne qui a déjà souscrit à un produit lors d'une campagne précédente (poutcome_success) a presque 8 fois plus de chances de souscrire, toute chose égale par ailleurs. De même, une personne contactée en Mars à 4 fois plus de chances de souscrire. "
   ]
  },
  {
   "cell_type": "markdown",
   "metadata": {},
   "source": [
    "Cependant, ces coefficients ne sont pas forcément significatifs, ce en quoi le modèle de statmodel nous donne plus d'informations "
   ]
  },
  {
   "cell_type": "markdown",
   "metadata": {},
   "source": [
    "### 3.2 Modèle statmodels"
   ]
  },
  {
   "cell_type": "code",
   "execution_count": 69,
   "metadata": {},
   "outputs": [
    {
     "name": "stdout",
     "output_type": "stream",
     "text": [
      "Optimization terminated successfully.\n",
      "         Current function value: 0.240627\n",
      "         Iterations 8\n",
      "                           Logit Regression Results                           \n",
      "==============================================================================\n",
      "Dep. Variable:                  y_bin   No. Observations:                45211\n",
      "Model:                          Logit   Df Residuals:                    45169\n",
      "Method:                           MLE   Df Model:                           41\n",
      "Date:                Mon, 17 Feb 2020   Pseudo R-squ.:                  0.3332\n",
      "Time:                        17:30:46   Log-Likelihood:                -10879.\n",
      "converged:                       True   LL-Null:                       -16315.\n",
      "Covariance Type:            nonrobust   LLR p-value:                     0.000\n",
      "=======================================================================================\n",
      "                          coef    std err          z      P>|z|      [0.025      0.975]\n",
      "---------------------------------------------------------------------------------------\n",
      "age                    -0.0179      0.002     -9.901      0.000      -0.021      -0.014\n",
      "balance              1.278e-05   5.19e-06      2.463      0.014    2.61e-06     2.3e-05\n",
      "day                     0.0015      0.002      0.617      0.537      -0.003       0.006\n",
      "duration                0.0041   6.42e-05     64.305      0.000       0.004       0.004\n",
      "campaign               -0.0969      0.010     -9.384      0.000      -0.117      -0.077\n",
      "pdays                  -0.0019      0.000     -6.564      0.000      -0.002      -0.001\n",
      "previous                0.0003      0.008      0.037      0.970      -0.015       0.015\n",
      "default_bin            -0.0204      0.163     -0.126      0.900      -0.339       0.298\n",
      "housing_bin            -0.8038      0.043    -18.845      0.000      -0.887      -0.720\n",
      "loan_bin               -0.4698      0.060     -7.864      0.000      -0.587      -0.353\n",
      "job_blue-collar        -0.5901      0.069     -8.614      0.000      -0.724      -0.456\n",
      "job_entrepreneur       -0.5338      0.124     -4.322      0.000      -0.776      -0.292\n",
      "job_housemaid          -0.7559      0.134     -5.653      0.000      -1.018      -0.494\n",
      "job_management         -0.3360      0.071     -4.762      0.000      -0.474      -0.198\n",
      "job_retired             0.2776      0.096      2.894      0.004       0.090       0.466\n",
      "job_self-employed      -0.4844      0.110     -4.398      0.000      -0.700      -0.269\n",
      "job_services           -0.4282      0.081     -5.269      0.000      -0.587      -0.269\n",
      "job_student             0.0025      0.105      0.023      0.981      -0.203       0.208\n",
      "job_technician         -0.3589      0.066     -5.439      0.000      -0.488      -0.230\n",
      "job_unemployed         -0.3888      0.109     -3.559      0.000      -0.603      -0.175\n",
      "job_unknown            -0.4630      0.232     -1.997      0.046      -0.918      -0.009\n",
      "marital_married        -0.4349      0.054     -8.112      0.000      -0.540      -0.330\n",
      "marital_single         -0.3037      0.059     -5.156      0.000      -0.419      -0.188\n",
      "education_secondary    -0.1640      0.058     -2.853      0.004      -0.277      -0.051\n",
      "education_tertiary      0.0211      0.069      0.307      0.759      -0.114       0.156\n",
      "education_unknown      -0.0099      0.101     -0.098      0.922      -0.208       0.188\n",
      "contact_telephone      -0.0991      0.075     -1.327      0.185      -0.245       0.047\n",
      "contact_unknown        -1.5449      0.072    -21.316      0.000      -1.687      -1.403\n",
      "month_aug              -0.9307      0.075    -12.446      0.000      -1.077      -0.784\n",
      "month_dec               0.4091      0.174      2.346      0.019       0.067       0.751\n",
      "month_feb              -0.4984      0.084     -5.944      0.000      -0.663      -0.334\n",
      "month_jan              -1.4588      0.120    -12.202      0.000      -1.693      -1.224\n",
      "month_jul              -1.0497      0.074    -14.194      0.000      -1.195      -0.905\n",
      "month_jun               0.1062      0.088      1.201      0.230      -0.067       0.280\n",
      "month_mar               1.3074      0.117     11.153      0.000       1.078       1.537\n",
      "month_may              -0.6467      0.068     -9.502      0.000      -0.780      -0.513\n",
      "month_nov              -1.1371      0.081    -14.105      0.000      -1.295      -0.979\n",
      "month_oct               0.6299      0.106      5.967      0.000       0.423       0.837\n",
      "month_sep               0.5694      0.117      4.877      0.000       0.341       0.798\n",
      "poutcome_other         -0.0003      0.088     -0.003      0.997      -0.172       0.172\n",
      "poutcome_success        2.0302      0.079     25.751      0.000       1.876       2.185\n",
      "poutcome_unknown       -0.7070      0.080     -8.802      0.000      -0.864      -0.550\n",
      "=======================================================================================\n"
     ]
    }
   ],
   "source": [
    "model = sm.Logit(y, X)\n",
    "results = model.fit()\n",
    "# Avec  statsmodel, on a une sortie qui ressemble beaucoup à celle de R\n",
    "print(results.summary())"
   ]
  },
  {
   "cell_type": "markdown",
   "metadata": {},
   "source": [
    "On voit que le R2 pour la regression logistique est de 0.33 contre 0.27 pour la régression linéaire, ce qui est un peu mieux mais qui ne permet pas non plus de décrire entièrement la variable cible. "
   ]
  },
  {
   "cell_type": "markdown",
   "metadata": {},
   "source": [
    "De plus, on se rend compte que certains coefficients ne sont pas du tout significatifs tels que \"day\", \"previous\", \"default_bin\", \"housing-bin\", \"job_student\" ou encore \"education_tertiary\". En effet, leur p-value ( P>|z| ) est supérier à 0.05"
   ]
  },
  {
   "cell_type": "code",
   "execution_count": null,
   "metadata": {},
   "outputs": [],
   "source": []
  }
 ],
 "metadata": {
  "kernelspec": {
   "display_name": "Python 3",
   "language": "python",
   "name": "python3"
  },
  "language_info": {
   "codemirror_mode": {
    "name": "ipython",
    "version": 3
   },
   "file_extension": ".py",
   "mimetype": "text/x-python",
   "name": "python",
   "nbconvert_exporter": "python",
   "pygments_lexer": "ipython3",
   "version": "3.7.3"
  }
 },
 "nbformat": 4,
 "nbformat_minor": 4
}
